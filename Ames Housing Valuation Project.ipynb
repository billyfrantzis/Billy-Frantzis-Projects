{
 "cells": [
  {
   "cell_type": "markdown",
   "metadata": {},
   "source": [
    "# STAT207 Final Project - Identifying and Valuing Residential Homes in Ames, Iowa.\n",
    "\n",
    "Billy Frantzis"
   ]
  },
  {
   "cell_type": "markdown",
   "metadata": {},
   "source": [
    "## 1. Introduction"
   ]
  },
  {
   "cell_type": "markdown",
   "metadata": {},
   "source": [
    "Buying and selling homes can be milestone achievements for many families. However, spending hundreds of thousands of dollars on a home can be stressful and the selection process is not easy. Therefore, homeowners, realtors, and prospective buyers alike would want to explore a home sales dataset in order to develop strategies to correctly value properties and identify features of these properties they are interested in selling or purchasing."
   ]
  },
  {
   "cell_type": "markdown",
   "metadata": {},
   "source": [
    "I want to investigate sale price as a response variable in order to develop a strategy to value homes in Ames, Iowa. Additionally, I want to get an idea of how to identify features a property might have, as this could be useful for prospective buyers.\n",
    "Therefore, I intend to answer the following questions in my report:"
   ]
  },
  {
   "cell_type": "markdown",
   "metadata": {},
   "source": [
    "1. How does the relationship between the Sale Price of a house and its most recent Year Remodeled vary by its Overall Quality in my sample of Ames, Iowa homes between 2006-2010?"
   ]
  },
  {
   "cell_type": "markdown",
   "metadata": {},
   "source": [
    "I am interested in answering this question because I would like to know how the sale prices of my sample of Ames, Iowa homes are impacted by their year remodeled, as I'm wondering if there is a correlation, since buyers may have a preference between newly updated and non-modern homes. Additionally, I want to know how the overall quality changes this relationship, if at all. "
   ]
  },
  {
   "cell_type": "markdown",
   "metadata": {},
   "source": [
    "2. Is there a significant difference in the mean sale price of all houses in Ames with and without a central air conditioning system?"
   ]
  },
  {
   "cell_type": "markdown",
   "metadata": {},
   "source": [
    "I am intereseted in answering this question because I want to determine if a central air conditioning system plays a role in determining sale price of homes across the entire population of Ames, Iowa homes. The answer to this question could be used for sellers in determining whether to invest in a central air system and buyers in determining whether to pay a different price for a house based upon it's central air conditioning status."
   ]
  },
  {
   "cell_type": "markdown",
   "metadata": {},
   "source": [
    "3. Is there a linear relationship between the sale price of a house and the square footage, the number of bedrooms, the number of bathrooms, and the total number of rooms above ground in a house in the Ames sample? Does this relationship hold true for all Ames houses?"
   ]
  },
  {
   "cell_type": "markdown",
   "metadata": {},
   "source": [
    "I am interested in answering this question because I want to determine whether variables related to the general size of the house--sq. footage, number of bedroom, number of bathrooms, and total number of above ground rooms--impact the sales price. This information can be used to determine a fair value to offer or sell a house for when provided with these variables to describe its general size."
   ]
  },
  {
   "cell_type": "markdown",
   "metadata": {},
   "source": [
    "4. Is there evidence of a linear relationship between the log-odds of a foundation being Cinderblock and the Year a house was built, its external quality, basement quality, and the basement's exposure? Does this relationship hold true in the population of all houses in Ames, Iowa?"
   ]
  },
  {
   "cell_type": "markdown",
   "metadata": {},
   "source": [
    "I am interested in answering this question because I'd like to be able to predict whether a house has a cinderblock foundation, as this can determine the strength of a home and whether or not it could take on additions or changes. The answer to this question could be used by prospective homebuyers in Ames, Iowa, in order to predict the foundation of a home they're interested in. "
   ]
  },
  {
   "cell_type": "code",
   "execution_count": 2,
   "metadata": {},
   "outputs": [],
   "source": [
    "import pandas as pd\n",
    "import numpy as np\n",
    "import matplotlib.pyplot as plt\n",
    "import seaborn as sns; sns.set()\n",
    "from sklearn.model_selection import train_test_split\n",
    "from sklearn.metrics import confusion_matrix, roc_curve, roc_auc_score\n",
    "from scipy.stats import norm, t\n",
    "import statsmodels.api as sm\n",
    "import statsmodels.formula.api as smf"
   ]
  },
  {
   "cell_type": "code",
   "execution_count": 3,
   "metadata": {},
   "outputs": [
    {
     "data": {
      "text/html": [
       "<div>\n",
       "<style scoped>\n",
       "    .dataframe tbody tr th:only-of-type {\n",
       "        vertical-align: middle;\n",
       "    }\n",
       "\n",
       "    .dataframe tbody tr th {\n",
       "        vertical-align: top;\n",
       "    }\n",
       "\n",
       "    .dataframe thead th {\n",
       "        text-align: right;\n",
       "    }\n",
       "</style>\n",
       "<table border=\"1\" class=\"dataframe\">\n",
       "  <thead>\n",
       "    <tr style=\"text-align: right;\">\n",
       "      <th></th>\n",
       "      <th>Order</th>\n",
       "      <th>PID</th>\n",
       "      <th>MSSubClass</th>\n",
       "      <th>MS_Zoning</th>\n",
       "      <th>Lot_Frontage</th>\n",
       "      <th>Lot_Area</th>\n",
       "      <th>Street</th>\n",
       "      <th>Alley</th>\n",
       "      <th>Lot_Shape</th>\n",
       "      <th>Land_Contour</th>\n",
       "      <th>...</th>\n",
       "      <th>Pool_Area</th>\n",
       "      <th>Pool_QC</th>\n",
       "      <th>Fence</th>\n",
       "      <th>Misc_Feature</th>\n",
       "      <th>Misc_Val</th>\n",
       "      <th>Mo_Sold</th>\n",
       "      <th>Yr_Sold</th>\n",
       "      <th>Sale_Type</th>\n",
       "      <th>Sale_Condition</th>\n",
       "      <th>SalePrice</th>\n",
       "    </tr>\n",
       "  </thead>\n",
       "  <tbody>\n",
       "    <tr>\n",
       "      <th>0</th>\n",
       "      <td>1</td>\n",
       "      <td>526301100</td>\n",
       "      <td>20</td>\n",
       "      <td>RL</td>\n",
       "      <td>141.0</td>\n",
       "      <td>31770</td>\n",
       "      <td>Pave</td>\n",
       "      <td>NaN</td>\n",
       "      <td>IR1</td>\n",
       "      <td>Lvl</td>\n",
       "      <td>...</td>\n",
       "      <td>0</td>\n",
       "      <td>NaN</td>\n",
       "      <td>NaN</td>\n",
       "      <td>NaN</td>\n",
       "      <td>0</td>\n",
       "      <td>5</td>\n",
       "      <td>2010</td>\n",
       "      <td>WD</td>\n",
       "      <td>Normal</td>\n",
       "      <td>215000</td>\n",
       "    </tr>\n",
       "    <tr>\n",
       "      <th>1</th>\n",
       "      <td>2</td>\n",
       "      <td>526350040</td>\n",
       "      <td>20</td>\n",
       "      <td>RH</td>\n",
       "      <td>80.0</td>\n",
       "      <td>11622</td>\n",
       "      <td>Pave</td>\n",
       "      <td>NaN</td>\n",
       "      <td>Reg</td>\n",
       "      <td>Lvl</td>\n",
       "      <td>...</td>\n",
       "      <td>0</td>\n",
       "      <td>NaN</td>\n",
       "      <td>MnPrv</td>\n",
       "      <td>NaN</td>\n",
       "      <td>0</td>\n",
       "      <td>6</td>\n",
       "      <td>2010</td>\n",
       "      <td>WD</td>\n",
       "      <td>Normal</td>\n",
       "      <td>105000</td>\n",
       "    </tr>\n",
       "    <tr>\n",
       "      <th>2</th>\n",
       "      <td>3</td>\n",
       "      <td>526351010</td>\n",
       "      <td>20</td>\n",
       "      <td>RL</td>\n",
       "      <td>81.0</td>\n",
       "      <td>14267</td>\n",
       "      <td>Pave</td>\n",
       "      <td>NaN</td>\n",
       "      <td>IR1</td>\n",
       "      <td>Lvl</td>\n",
       "      <td>...</td>\n",
       "      <td>0</td>\n",
       "      <td>NaN</td>\n",
       "      <td>NaN</td>\n",
       "      <td>Gar2</td>\n",
       "      <td>12500</td>\n",
       "      <td>6</td>\n",
       "      <td>2010</td>\n",
       "      <td>WD</td>\n",
       "      <td>Normal</td>\n",
       "      <td>172000</td>\n",
       "    </tr>\n",
       "    <tr>\n",
       "      <th>3</th>\n",
       "      <td>4</td>\n",
       "      <td>526353030</td>\n",
       "      <td>20</td>\n",
       "      <td>RL</td>\n",
       "      <td>93.0</td>\n",
       "      <td>11160</td>\n",
       "      <td>Pave</td>\n",
       "      <td>NaN</td>\n",
       "      <td>Reg</td>\n",
       "      <td>Lvl</td>\n",
       "      <td>...</td>\n",
       "      <td>0</td>\n",
       "      <td>NaN</td>\n",
       "      <td>NaN</td>\n",
       "      <td>NaN</td>\n",
       "      <td>0</td>\n",
       "      <td>4</td>\n",
       "      <td>2010</td>\n",
       "      <td>WD</td>\n",
       "      <td>Normal</td>\n",
       "      <td>244000</td>\n",
       "    </tr>\n",
       "    <tr>\n",
       "      <th>4</th>\n",
       "      <td>5</td>\n",
       "      <td>527105010</td>\n",
       "      <td>60</td>\n",
       "      <td>RL</td>\n",
       "      <td>74.0</td>\n",
       "      <td>13830</td>\n",
       "      <td>Pave</td>\n",
       "      <td>NaN</td>\n",
       "      <td>IR1</td>\n",
       "      <td>Lvl</td>\n",
       "      <td>...</td>\n",
       "      <td>0</td>\n",
       "      <td>NaN</td>\n",
       "      <td>MnPrv</td>\n",
       "      <td>NaN</td>\n",
       "      <td>0</td>\n",
       "      <td>3</td>\n",
       "      <td>2010</td>\n",
       "      <td>WD</td>\n",
       "      <td>Normal</td>\n",
       "      <td>189900</td>\n",
       "    </tr>\n",
       "    <tr>\n",
       "      <th>5</th>\n",
       "      <td>6</td>\n",
       "      <td>527105030</td>\n",
       "      <td>60</td>\n",
       "      <td>RL</td>\n",
       "      <td>78.0</td>\n",
       "      <td>9978</td>\n",
       "      <td>Pave</td>\n",
       "      <td>NaN</td>\n",
       "      <td>IR1</td>\n",
       "      <td>Lvl</td>\n",
       "      <td>...</td>\n",
       "      <td>0</td>\n",
       "      <td>NaN</td>\n",
       "      <td>NaN</td>\n",
       "      <td>NaN</td>\n",
       "      <td>0</td>\n",
       "      <td>6</td>\n",
       "      <td>2010</td>\n",
       "      <td>WD</td>\n",
       "      <td>Normal</td>\n",
       "      <td>195500</td>\n",
       "    </tr>\n",
       "  </tbody>\n",
       "</table>\n",
       "<p>6 rows × 82 columns</p>\n",
       "</div>"
      ],
      "text/plain": [
       "   Order        PID  MSSubClass MS_Zoning  Lot_Frontage  Lot_Area Street  \\\n",
       "0      1  526301100          20        RL         141.0     31770   Pave   \n",
       "1      2  526350040          20        RH          80.0     11622   Pave   \n",
       "2      3  526351010          20        RL          81.0     14267   Pave   \n",
       "3      4  526353030          20        RL          93.0     11160   Pave   \n",
       "4      5  527105010          60        RL          74.0     13830   Pave   \n",
       "5      6  527105030          60        RL          78.0      9978   Pave   \n",
       "\n",
       "  Alley Lot_Shape Land_Contour  ... Pool_Area Pool_QC  Fence Misc_Feature  \\\n",
       "0   NaN       IR1          Lvl  ...         0     NaN    NaN          NaN   \n",
       "1   NaN       Reg          Lvl  ...         0     NaN  MnPrv          NaN   \n",
       "2   NaN       IR1          Lvl  ...         0     NaN    NaN         Gar2   \n",
       "3   NaN       Reg          Lvl  ...         0     NaN    NaN          NaN   \n",
       "4   NaN       IR1          Lvl  ...         0     NaN  MnPrv          NaN   \n",
       "5   NaN       IR1          Lvl  ...         0     NaN    NaN          NaN   \n",
       "\n",
       "  Misc_Val Mo_Sold Yr_Sold Sale_Type  Sale_Condition  SalePrice  \n",
       "0        0       5    2010       WD           Normal     215000  \n",
       "1        0       6    2010       WD           Normal     105000  \n",
       "2    12500       6    2010       WD           Normal     172000  \n",
       "3        0       4    2010       WD           Normal     244000  \n",
       "4        0       3    2010       WD           Normal     189900  \n",
       "5        0       6    2010       WD           Normal     195500  \n",
       "\n",
       "[6 rows x 82 columns]"
      ]
     },
     "execution_count": 3,
     "metadata": {},
     "output_type": "execute_result"
    }
   ],
   "source": [
    "df=pd.read_csv('ames.csv')\n",
    "df.head(n=6)"
   ]
  },
  {
   "cell_type": "code",
   "execution_count": 4,
   "metadata": {},
   "outputs": [
    {
     "data": {
      "text/plain": [
       "(2930, 82)"
      ]
     },
     "execution_count": 4,
     "metadata": {},
     "output_type": "execute_result"
    }
   ],
   "source": [
    "df.shape"
   ]
  },
  {
   "cell_type": "markdown",
   "metadata": {},
   "source": [
    "The dataset I am using has 2,930 observations and 82 variables."
   ]
  },
  {
   "cell_type": "markdown",
   "metadata": {},
   "source": [
    "The information included in my data are concrete facts about homes, including quantitative features such as sale price or lot area, and categorical features such as street type or neighborhood. Due to this, however, data is not included about aesthetics and interior design, which are unique to each person's judgement and not concrete. It is important to note that these features are key in creating a description of the house for a buyer or seller. Therefore, in a future dataset or analysis, I would like to add a 'Design Type' variable that categorizes the interior design of each home to a known style that it most closely resembles. "
   ]
  },
  {
   "cell_type": "markdown",
   "metadata": {},
   "source": [
    "## 2. Descriptive Analytics"
   ]
  },
  {
   "cell_type": "markdown",
   "metadata": {},
   "source": [
    "How does the relationship between the Sale Price of a house and its most recent Year Remodeled vary by its Overall Quality in my sample of Ames, Iowa homes between 2006-2010?"
   ]
  },
  {
   "cell_type": "code",
   "execution_count": 68,
   "metadata": {},
   "outputs": [
    {
     "data": {
      "text/plain": [
       "Text(0.5, 1.0, 'Sale Price of Sample Ames homes vs. Year Sold and Overall Quality')"
      ]
     },
     "execution_count": 68,
     "metadata": {},
     "output_type": "execute_result"
    },
    {
     "data": {
      "image/png": "[encoded data removed]",
      "text/plain": [
       "<Figure size 640x480 with 2 Axes>"
      ]
     },
     "metadata": {},
     "output_type": "display_data"
    }
   ],
   "source": [
    "plt.scatter(data=df,x='Year_Remod_Add',y='SalePrice',c='Overall_Qual')\n",
    "plt.xlabel('Most Recent Remodel (Year)')\n",
    "plt.ylabel('Sale Price')\n",
    "cbar=plt.colorbar()\n",
    "cbar.set_label('Overall Quality')\n",
    "plt.title('Sale Price of Sample Ames homes vs. Year Sold and Overall Quality')"
   ]
  },
  {
   "cell_type": "markdown",
   "metadata": {},
   "source": [
    "In my scatterplot above, the relationship between the remodel year and sale price is shown through plotted points with overall quality shown as the shade of color."
   ]
  },
  {
   "cell_type": "markdown",
   "metadata": {},
   "source": [
    "The scatterplot shows a moderately strong, positive, linear relationship between the most recent year remodeled and the sale price of a house in my sample of Ames, Iowa homes. There are 2 outliers between 1960-1970 and several more outliers between 1990-2010. The only 'low' outlier was a home remodeled in 1970, while the rest were 'high' outliers. "
   ]
  },
  {
   "cell_type": "markdown",
   "metadata": {},
   "source": [
    "Additionally, their appeared to be a strong, positive relationship between Overall Quality of a home and its Sale Price in the dataset. This is demonstrated by the color shade lightening (from a dark purple to a beige) as the price, or y-axis value, increases. This relationship remains the same regardless of remodel year and is a clearly visible pattern, demonstrating its the high strength of the relationship. Therefore, Overall Quality could vary the relationship between Remodel Year and Sale Price by boosting the price regardless of the timing of the Remodel Year."
   ]
  },
  {
   "cell_type": "markdown",
   "metadata": {},
   "source": [
    "**Summary Statistics Analysis**"
   ]
  },
  {
   "cell_type": "code",
   "execution_count": 79,
   "metadata": {},
   "outputs": [
    {
     "data": {
      "text/html": [
       "<div>\n",
       "<style scoped>\n",
       "    .dataframe tbody tr th:only-of-type {\n",
       "        vertical-align: middle;\n",
       "    }\n",
       "\n",
       "    .dataframe tbody tr th {\n",
       "        vertical-align: top;\n",
       "    }\n",
       "\n",
       "    .dataframe thead th {\n",
       "        text-align: right;\n",
       "    }\n",
       "</style>\n",
       "<table border=\"1\" class=\"dataframe\">\n",
       "  <thead>\n",
       "    <tr style=\"text-align: right;\">\n",
       "      <th></th>\n",
       "      <th>count</th>\n",
       "      <th>mean</th>\n",
       "      <th>std</th>\n",
       "      <th>min</th>\n",
       "      <th>25%</th>\n",
       "      <th>50%</th>\n",
       "      <th>75%</th>\n",
       "      <th>max</th>\n",
       "    </tr>\n",
       "    <tr>\n",
       "      <th>Year_Remod_Add</th>\n",
       "      <th></th>\n",
       "      <th></th>\n",
       "      <th></th>\n",
       "      <th></th>\n",
       "      <th></th>\n",
       "      <th></th>\n",
       "      <th></th>\n",
       "      <th></th>\n",
       "    </tr>\n",
       "  </thead>\n",
       "  <tbody>\n",
       "    <tr>\n",
       "      <th>1950</th>\n",
       "      <td>361.0</td>\n",
       "      <td>115397.343490</td>\n",
       "      <td>38011.786157</td>\n",
       "      <td>34900.0</td>\n",
       "      <td>89900.0</td>\n",
       "      <td>113000.0</td>\n",
       "      <td>137000.00</td>\n",
       "      <td>257076.0</td>\n",
       "    </tr>\n",
       "    <tr>\n",
       "      <th>1951</th>\n",
       "      <td>14.0</td>\n",
       "      <td>124742.857143</td>\n",
       "      <td>22378.276358</td>\n",
       "      <td>81500.0</td>\n",
       "      <td>106750.0</td>\n",
       "      <td>130500.0</td>\n",
       "      <td>138725.00</td>\n",
       "      <td>155000.0</td>\n",
       "    </tr>\n",
       "    <tr>\n",
       "      <th>1952</th>\n",
       "      <td>15.0</td>\n",
       "      <td>113466.200000</td>\n",
       "      <td>37727.744539</td>\n",
       "      <td>13100.0</td>\n",
       "      <td>113750.0</td>\n",
       "      <td>123500.0</td>\n",
       "      <td>133500.00</td>\n",
       "      <td>166000.0</td>\n",
       "    </tr>\n",
       "    <tr>\n",
       "      <th>1953</th>\n",
       "      <td>20.0</td>\n",
       "      <td>137880.000000</td>\n",
       "      <td>36841.375481</td>\n",
       "      <td>79900.0</td>\n",
       "      <td>112175.0</td>\n",
       "      <td>133000.0</td>\n",
       "      <td>153500.00</td>\n",
       "      <td>225000.0</td>\n",
       "    </tr>\n",
       "    <tr>\n",
       "      <th>1954</th>\n",
       "      <td>28.0</td>\n",
       "      <td>127803.250000</td>\n",
       "      <td>27914.342514</td>\n",
       "      <td>80400.0</td>\n",
       "      <td>110750.0</td>\n",
       "      <td>126250.0</td>\n",
       "      <td>141200.00</td>\n",
       "      <td>224000.0</td>\n",
       "    </tr>\n",
       "    <tr>\n",
       "      <th>...</th>\n",
       "      <td>...</td>\n",
       "      <td>...</td>\n",
       "      <td>...</td>\n",
       "      <td>...</td>\n",
       "      <td>...</td>\n",
       "      <td>...</td>\n",
       "      <td>...</td>\n",
       "      <td>...</td>\n",
       "    </tr>\n",
       "    <tr>\n",
       "      <th>2006</th>\n",
       "      <td>202.0</td>\n",
       "      <td>237547.747525</td>\n",
       "      <td>96747.313035</td>\n",
       "      <td>79000.0</td>\n",
       "      <td>170102.5</td>\n",
       "      <td>212949.5</td>\n",
       "      <td>292250.00</td>\n",
       "      <td>556581.0</td>\n",
       "    </tr>\n",
       "    <tr>\n",
       "      <th>2007</th>\n",
       "      <td>164.0</td>\n",
       "      <td>244114.500000</td>\n",
       "      <td>98787.212606</td>\n",
       "      <td>64500.0</td>\n",
       "      <td>174000.0</td>\n",
       "      <td>223500.0</td>\n",
       "      <td>295187.75</td>\n",
       "      <td>610000.0</td>\n",
       "    </tr>\n",
       "    <tr>\n",
       "      <th>2008</th>\n",
       "      <td>81.0</td>\n",
       "      <td>265686.222222</td>\n",
       "      <td>97229.769407</td>\n",
       "      <td>97000.0</td>\n",
       "      <td>207500.0</td>\n",
       "      <td>250580.0</td>\n",
       "      <td>332000.00</td>\n",
       "      <td>555000.0</td>\n",
       "    </tr>\n",
       "    <tr>\n",
       "      <th>2009</th>\n",
       "      <td>34.0</td>\n",
       "      <td>273279.970588</td>\n",
       "      <td>106673.242704</td>\n",
       "      <td>129000.0</td>\n",
       "      <td>209725.0</td>\n",
       "      <td>238885.0</td>\n",
       "      <td>319150.00</td>\n",
       "      <td>582933.0</td>\n",
       "    </tr>\n",
       "    <tr>\n",
       "      <th>2010</th>\n",
       "      <td>13.0</td>\n",
       "      <td>295085.461538</td>\n",
       "      <td>127393.323946</td>\n",
       "      <td>127000.0</td>\n",
       "      <td>204500.0</td>\n",
       "      <td>269500.0</td>\n",
       "      <td>376162.00</td>\n",
       "      <td>611657.0</td>\n",
       "    </tr>\n",
       "  </tbody>\n",
       "</table>\n",
       "<p>61 rows × 8 columns</p>\n",
       "</div>"
      ],
      "text/plain": [
       "                count           mean            std       min       25%  \\\n",
       "Year_Remod_Add                                                            \n",
       "1950            361.0  115397.343490   38011.786157   34900.0   89900.0   \n",
       "1951             14.0  124742.857143   22378.276358   81500.0  106750.0   \n",
       "1952             15.0  113466.200000   37727.744539   13100.0  113750.0   \n",
       "1953             20.0  137880.000000   36841.375481   79900.0  112175.0   \n",
       "1954             28.0  127803.250000   27914.342514   80400.0  110750.0   \n",
       "...               ...            ...            ...       ...       ...   \n",
       "2006            202.0  237547.747525   96747.313035   79000.0  170102.5   \n",
       "2007            164.0  244114.500000   98787.212606   64500.0  174000.0   \n",
       "2008             81.0  265686.222222   97229.769407   97000.0  207500.0   \n",
       "2009             34.0  273279.970588  106673.242704  129000.0  209725.0   \n",
       "2010             13.0  295085.461538  127393.323946  127000.0  204500.0   \n",
       "\n",
       "                     50%        75%       max  \n",
       "Year_Remod_Add                                 \n",
       "1950            113000.0  137000.00  257076.0  \n",
       "1951            130500.0  138725.00  155000.0  \n",
       "1952            123500.0  133500.00  166000.0  \n",
       "1953            133000.0  153500.00  225000.0  \n",
       "1954            126250.0  141200.00  224000.0  \n",
       "...                  ...        ...       ...  \n",
       "2006            212949.5  292250.00  556581.0  \n",
       "2007            223500.0  295187.75  610000.0  \n",
       "2008            250580.0  332000.00  555000.0  \n",
       "2009            238885.0  319150.00  582933.0  \n",
       "2010            269500.0  376162.00  611657.0  \n",
       "\n",
       "[61 rows x 8 columns]"
      ]
     },
     "execution_count": 79,
     "metadata": {},
     "output_type": "execute_result"
    }
   ],
   "source": [
    "remod=df.groupby('Year_Remod_Add')['SalePrice']\n",
    "remod.describe()"
   ]
  },
  {
   "cell_type": "code",
   "execution_count": 81,
   "metadata": {},
   "outputs": [
    {
     "data": {
      "text/html": [
       "<div>\n",
       "<style scoped>\n",
       "    .dataframe tbody tr th:only-of-type {\n",
       "        vertical-align: middle;\n",
       "    }\n",
       "\n",
       "    .dataframe tbody tr th {\n",
       "        vertical-align: top;\n",
       "    }\n",
       "\n",
       "    .dataframe thead th {\n",
       "        text-align: right;\n",
       "    }\n",
       "</style>\n",
       "<table border=\"1\" class=\"dataframe\">\n",
       "  <thead>\n",
       "    <tr style=\"text-align: right;\">\n",
       "      <th></th>\n",
       "      <th>count</th>\n",
       "      <th>mean</th>\n",
       "      <th>std</th>\n",
       "      <th>min</th>\n",
       "      <th>25%</th>\n",
       "      <th>50%</th>\n",
       "      <th>75%</th>\n",
       "      <th>max</th>\n",
       "    </tr>\n",
       "    <tr>\n",
       "      <th>Overall_Qual</th>\n",
       "      <th></th>\n",
       "      <th></th>\n",
       "      <th></th>\n",
       "      <th></th>\n",
       "      <th></th>\n",
       "      <th></th>\n",
       "      <th></th>\n",
       "      <th></th>\n",
       "    </tr>\n",
       "  </thead>\n",
       "  <tbody>\n",
       "    <tr>\n",
       "      <th>1</th>\n",
       "      <td>4.0</td>\n",
       "      <td>48725.000000</td>\n",
       "      <td>29341.935292</td>\n",
       "      <td>13100.0</td>\n",
       "      <td>32750.00</td>\n",
       "      <td>50150.0</td>\n",
       "      <td>66125.0</td>\n",
       "      <td>81500.0</td>\n",
       "    </tr>\n",
       "    <tr>\n",
       "      <th>2</th>\n",
       "      <td>13.0</td>\n",
       "      <td>52325.307692</td>\n",
       "      <td>17562.955704</td>\n",
       "      <td>12789.0</td>\n",
       "      <td>45000.00</td>\n",
       "      <td>57625.0</td>\n",
       "      <td>60000.0</td>\n",
       "      <td>82000.0</td>\n",
       "    </tr>\n",
       "    <tr>\n",
       "      <th>3</th>\n",
       "      <td>40.0</td>\n",
       "      <td>83185.975000</td>\n",
       "      <td>23569.801683</td>\n",
       "      <td>37900.0</td>\n",
       "      <td>64875.00</td>\n",
       "      <td>81200.0</td>\n",
       "      <td>95475.0</td>\n",
       "      <td>139600.0</td>\n",
       "    </tr>\n",
       "    <tr>\n",
       "      <th>4</th>\n",
       "      <td>226.0</td>\n",
       "      <td>106485.097345</td>\n",
       "      <td>29224.943495</td>\n",
       "      <td>34900.0</td>\n",
       "      <td>85500.00</td>\n",
       "      <td>105000.0</td>\n",
       "      <td>124275.0</td>\n",
       "      <td>256000.0</td>\n",
       "    </tr>\n",
       "    <tr>\n",
       "      <th>5</th>\n",
       "      <td>825.0</td>\n",
       "      <td>134752.516364</td>\n",
       "      <td>27690.596654</td>\n",
       "      <td>55993.0</td>\n",
       "      <td>119600.00</td>\n",
       "      <td>133000.0</td>\n",
       "      <td>147983.0</td>\n",
       "      <td>301600.0</td>\n",
       "    </tr>\n",
       "    <tr>\n",
       "      <th>6</th>\n",
       "      <td>732.0</td>\n",
       "      <td>162130.318306</td>\n",
       "      <td>37201.296411</td>\n",
       "      <td>76000.0</td>\n",
       "      <td>138000.00</td>\n",
       "      <td>159500.0</td>\n",
       "      <td>182000.0</td>\n",
       "      <td>415000.0</td>\n",
       "    </tr>\n",
       "    <tr>\n",
       "      <th>7</th>\n",
       "      <td>602.0</td>\n",
       "      <td>205025.760797</td>\n",
       "      <td>43166.268562</td>\n",
       "      <td>82500.0</td>\n",
       "      <td>176421.25</td>\n",
       "      <td>200000.0</td>\n",
       "      <td>229600.0</td>\n",
       "      <td>383970.0</td>\n",
       "    </tr>\n",
       "    <tr>\n",
       "      <th>8</th>\n",
       "      <td>350.0</td>\n",
       "      <td>270913.594286</td>\n",
       "      <td>61326.207415</td>\n",
       "      <td>122000.0</td>\n",
       "      <td>230000.00</td>\n",
       "      <td>264530.5</td>\n",
       "      <td>305975.0</td>\n",
       "      <td>538000.0</td>\n",
       "    </tr>\n",
       "    <tr>\n",
       "      <th>9</th>\n",
       "      <td>107.0</td>\n",
       "      <td>368336.766355</td>\n",
       "      <td>79201.265422</td>\n",
       "      <td>150000.0</td>\n",
       "      <td>318030.50</td>\n",
       "      <td>360000.0</td>\n",
       "      <td>405374.5</td>\n",
       "      <td>611657.0</td>\n",
       "    </tr>\n",
       "    <tr>\n",
       "      <th>10</th>\n",
       "      <td>31.0</td>\n",
       "      <td>450217.322581</td>\n",
       "      <td>141975.967956</td>\n",
       "      <td>160000.0</td>\n",
       "      <td>385625.00</td>\n",
       "      <td>451950.0</td>\n",
       "      <td>540112.0</td>\n",
       "      <td>755000.0</td>\n",
       "    </tr>\n",
       "  </tbody>\n",
       "</table>\n",
       "</div>"
      ],
      "text/plain": [
       "              count           mean            std       min        25%  \\\n",
       "Overall_Qual                                                             \n",
       "1               4.0   48725.000000   29341.935292   13100.0   32750.00   \n",
       "2              13.0   52325.307692   17562.955704   12789.0   45000.00   \n",
       "3              40.0   83185.975000   23569.801683   37900.0   64875.00   \n",
       "4             226.0  106485.097345   29224.943495   34900.0   85500.00   \n",
       "5             825.0  134752.516364   27690.596654   55993.0  119600.00   \n",
       "6             732.0  162130.318306   37201.296411   76000.0  138000.00   \n",
       "7             602.0  205025.760797   43166.268562   82500.0  176421.25   \n",
       "8             350.0  270913.594286   61326.207415  122000.0  230000.00   \n",
       "9             107.0  368336.766355   79201.265422  150000.0  318030.50   \n",
       "10             31.0  450217.322581  141975.967956  160000.0  385625.00   \n",
       "\n",
       "                   50%       75%       max  \n",
       "Overall_Qual                                \n",
       "1              50150.0   66125.0   81500.0  \n",
       "2              57625.0   60000.0   82000.0  \n",
       "3              81200.0   95475.0  139600.0  \n",
       "4             105000.0  124275.0  256000.0  \n",
       "5             133000.0  147983.0  301600.0  \n",
       "6             159500.0  182000.0  415000.0  \n",
       "7             200000.0  229600.0  383970.0  \n",
       "8             264530.5  305975.0  538000.0  \n",
       "9             360000.0  405374.5  611657.0  \n",
       "10            451950.0  540112.0  755000.0  "
      ]
     },
     "execution_count": 81,
     "metadata": {},
     "output_type": "execute_result"
    }
   ],
   "source": [
    "overall_qual=df.groupby('Overall_Qual')['SalePrice']\n",
    "overall_qual.describe()"
   ]
  },
  {
   "cell_type": "markdown",
   "metadata": {},
   "source": [
    "As shown in the summary tables for both Year Remodeled & Sale Price and Overall Quality & Sale Price, the values for almost all summary statistics increased as the either years were added or overall quality was higher. With the center values mean and median increasing at almost every step, it is clear that higher prices are separately associated with higher overall quality and a more recent remodel."
   ]
  },
  {
   "cell_type": "code",
   "execution_count": 83,
   "metadata": {},
   "outputs": [
    {
     "name": "stdout",
     "output_type": "stream",
     "text": [
      "1950 IQR: 47100 , IQR 2010: 171662 , IQR Diff: 124562\n"
     ]
    }
   ],
   "source": [
    "IQR_1950=137000-89900\n",
    "IQR_2010=376162-204500\n",
    "IQR_diff=IQR_2010-IQR_1950\n",
    "print('1950 IQR:',IQR_1950,',','IQR 2010:',IQR_2010,',','IQR Diff:',IQR_diff)"
   ]
  },
  {
   "cell_type": "code",
   "execution_count": 85,
   "metadata": {},
   "outputs": [
    {
     "name": "stdout",
     "output_type": "stream",
     "text": [
      "IQR at Overall Quality rating of 1: 33375 , IQR at Overall Quality rating of 10: 154487 , IQR Diff: 121112\n"
     ]
    }
   ],
   "source": [
    "IQR_Qual1=66125-32750\n",
    "IQR_Qual10=540112-385625\n",
    "IQR_diff=IQR_Qual10-IQR_Qual1\n",
    "print('IQR at Overall Quality rating of 1:',IQR_Qual1,',','IQR at Overall Quality rating of 10:',IQR_Qual10,',','IQR Diff:',IQR_diff)"
   ]
  },
  {
   "cell_type": "markdown",
   "metadata": {},
   "source": [
    "Along with the higher prices came higher variability in prices for both variables. For the Year Remodeled, the difference in IQR was 124,562 between 1950-2010. For the Overall Quality rating, the difference in IQR was 121,112 between the lowest rating, 1, and the highest rating, 10. This demonstrates that a larger spread in prices is related to an increase in either the Year Remodeled or Overall Quality rating."
   ]
  },
  {
   "cell_type": "markdown",
   "metadata": {},
   "source": [
    "**What About Both Variables Together?**"
   ]
  },
  {
   "cell_type": "code",
   "execution_count": 88,
   "metadata": {},
   "outputs": [
    {
     "data": {
      "text/html": [
       "<div>\n",
       "<style scoped>\n",
       "    .dataframe tbody tr th:only-of-type {\n",
       "        vertical-align: middle;\n",
       "    }\n",
       "\n",
       "    .dataframe tbody tr th {\n",
       "        vertical-align: top;\n",
       "    }\n",
       "\n",
       "    .dataframe thead th {\n",
       "        text-align: right;\n",
       "    }\n",
       "</style>\n",
       "<table border=\"1\" class=\"dataframe\">\n",
       "  <thead>\n",
       "    <tr style=\"text-align: right;\">\n",
       "      <th></th>\n",
       "      <th></th>\n",
       "      <th>count</th>\n",
       "      <th>mean</th>\n",
       "      <th>std</th>\n",
       "      <th>min</th>\n",
       "      <th>25%</th>\n",
       "      <th>50%</th>\n",
       "      <th>75%</th>\n",
       "      <th>max</th>\n",
       "    </tr>\n",
       "    <tr>\n",
       "      <th>Year_Remod_Add</th>\n",
       "      <th>Overall_Qual</th>\n",
       "      <th></th>\n",
       "      <th></th>\n",
       "      <th></th>\n",
       "      <th></th>\n",
       "      <th></th>\n",
       "      <th></th>\n",
       "      <th></th>\n",
       "      <th></th>\n",
       "    </tr>\n",
       "  </thead>\n",
       "  <tbody>\n",
       "    <tr>\n",
       "      <th rowspan=\"5\" valign=\"top\">1950</th>\n",
       "      <th>1</th>\n",
       "      <td>2.0</td>\n",
       "      <td>50150.000000</td>\n",
       "      <td>15344.217152</td>\n",
       "      <td>39300.0</td>\n",
       "      <td>44725.00</td>\n",
       "      <td>50150.0</td>\n",
       "      <td>55575.00</td>\n",
       "      <td>61000.0</td>\n",
       "    </tr>\n",
       "    <tr>\n",
       "      <th>2</th>\n",
       "      <td>11.0</td>\n",
       "      <td>57494.545455</td>\n",
       "      <td>12426.873439</td>\n",
       "      <td>35311.0</td>\n",
       "      <td>50750.00</td>\n",
       "      <td>59000.0</td>\n",
       "      <td>61950.00</td>\n",
       "      <td>82000.0</td>\n",
       "    </tr>\n",
       "    <tr>\n",
       "      <th>3</th>\n",
       "      <td>24.0</td>\n",
       "      <td>74586.000000</td>\n",
       "      <td>18127.063411</td>\n",
       "      <td>37900.0</td>\n",
       "      <td>64000.00</td>\n",
       "      <td>73750.0</td>\n",
       "      <td>88375.00</td>\n",
       "      <td>107400.0</td>\n",
       "    </tr>\n",
       "    <tr>\n",
       "      <th>4</th>\n",
       "      <td>71.0</td>\n",
       "      <td>93883.563380</td>\n",
       "      <td>25784.176016</td>\n",
       "      <td>34900.0</td>\n",
       "      <td>80000.00</td>\n",
       "      <td>90000.0</td>\n",
       "      <td>108250.00</td>\n",
       "      <td>149500.0</td>\n",
       "    </tr>\n",
       "    <tr>\n",
       "      <th>5</th>\n",
       "      <td>133.0</td>\n",
       "      <td>115871.263158</td>\n",
       "      <td>26278.408685</td>\n",
       "      <td>62500.0</td>\n",
       "      <td>98500.00</td>\n",
       "      <td>115000.0</td>\n",
       "      <td>132500.00</td>\n",
       "      <td>205000.0</td>\n",
       "    </tr>\n",
       "    <tr>\n",
       "      <th>...</th>\n",
       "      <th>...</th>\n",
       "      <td>...</td>\n",
       "      <td>...</td>\n",
       "      <td>...</td>\n",
       "      <td>...</td>\n",
       "      <td>...</td>\n",
       "      <td>...</td>\n",
       "      <td>...</td>\n",
       "      <td>...</td>\n",
       "    </tr>\n",
       "    <tr>\n",
       "      <th>2009</th>\n",
       "      <th>10</th>\n",
       "      <td>2.0</td>\n",
       "      <td>293355.500000</td>\n",
       "      <td>154864.163254</td>\n",
       "      <td>183850.0</td>\n",
       "      <td>238602.75</td>\n",
       "      <td>293355.5</td>\n",
       "      <td>348108.25</td>\n",
       "      <td>402861.0</td>\n",
       "    </tr>\n",
       "    <tr>\n",
       "      <th rowspan=\"4\" valign=\"top\">2010</th>\n",
       "      <th>5</th>\n",
       "      <td>1.0</td>\n",
       "      <td>127000.000000</td>\n",
       "      <td>NaN</td>\n",
       "      <td>127000.0</td>\n",
       "      <td>127000.00</td>\n",
       "      <td>127000.0</td>\n",
       "      <td>127000.00</td>\n",
       "      <td>127000.0</td>\n",
       "    </tr>\n",
       "    <tr>\n",
       "      <th>7</th>\n",
       "      <td>5.0</td>\n",
       "      <td>220662.200000</td>\n",
       "      <td>51744.338620</td>\n",
       "      <td>179781.0</td>\n",
       "      <td>187000.00</td>\n",
       "      <td>204500.0</td>\n",
       "      <td>224000.00</td>\n",
       "      <td>308030.0</td>\n",
       "    </tr>\n",
       "    <tr>\n",
       "      <th>8</th>\n",
       "      <td>3.0</td>\n",
       "      <td>276119.000000</td>\n",
       "      <td>12860.638670</td>\n",
       "      <td>267916.0</td>\n",
       "      <td>268708.00</td>\n",
       "      <td>269500.0</td>\n",
       "      <td>280220.50</td>\n",
       "      <td>290941.0</td>\n",
       "    </tr>\n",
       "    <tr>\n",
       "      <th>9</th>\n",
       "      <td>4.0</td>\n",
       "      <td>444360.750000</td>\n",
       "      <td>111877.240490</td>\n",
       "      <td>376162.0</td>\n",
       "      <td>389864.50</td>\n",
       "      <td>394812.0</td>\n",
       "      <td>449308.25</td>\n",
       "      <td>611657.0</td>\n",
       "    </tr>\n",
       "  </tbody>\n",
       "</table>\n",
       "<p>299 rows × 8 columns</p>\n",
       "</div>"
      ],
      "text/plain": [
       "                             count           mean            std       min  \\\n",
       "Year_Remod_Add Overall_Qual                                                  \n",
       "1950           1               2.0   50150.000000   15344.217152   39300.0   \n",
       "               2              11.0   57494.545455   12426.873439   35311.0   \n",
       "               3              24.0   74586.000000   18127.063411   37900.0   \n",
       "               4              71.0   93883.563380   25784.176016   34900.0   \n",
       "               5             133.0  115871.263158   26278.408685   62500.0   \n",
       "...                            ...            ...            ...       ...   \n",
       "2009           10              2.0  293355.500000  154864.163254  183850.0   \n",
       "2010           5               1.0  127000.000000            NaN  127000.0   \n",
       "               7               5.0  220662.200000   51744.338620  179781.0   \n",
       "               8               3.0  276119.000000   12860.638670  267916.0   \n",
       "               9               4.0  444360.750000  111877.240490  376162.0   \n",
       "\n",
       "                                   25%       50%        75%       max  \n",
       "Year_Remod_Add Overall_Qual                                            \n",
       "1950           1              44725.00   50150.0   55575.00   61000.0  \n",
       "               2              50750.00   59000.0   61950.00   82000.0  \n",
       "               3              64000.00   73750.0   88375.00  107400.0  \n",
       "               4              80000.00   90000.0  108250.00  149500.0  \n",
       "               5              98500.00  115000.0  132500.00  205000.0  \n",
       "...                                ...       ...        ...       ...  \n",
       "2009           10            238602.75  293355.5  348108.25  402861.0  \n",
       "2010           5             127000.00  127000.0  127000.00  127000.0  \n",
       "               7             187000.00  204500.0  224000.00  308030.0  \n",
       "               8             268708.00  269500.0  280220.50  290941.0  \n",
       "               9             389864.50  394812.0  449308.25  611657.0  \n",
       "\n",
       "[299 rows x 8 columns]"
      ]
     },
     "execution_count": 88,
     "metadata": {},
     "output_type": "execute_result"
    }
   ],
   "source": [
    "both_var=df.groupby(['Year_Remod_Add','Overall_Qual'])['SalePrice']\n",
    "both_var.describe()"
   ]
  },
  {
   "cell_type": "markdown",
   "metadata": {},
   "source": [
    "Similarly to what the scatterplot demonstrated, the summary statistics table shows a positive relationship between median & mean Sale Price of a home and its Overall Quality rating, regardless of the year in which it was remodeled. Therefore, it can inferred that the Overall Quality impacts the relationship between Year Remodeled and Sale Price of a home because of its independent positive relationship with Sale Price. However, it is important to note that the Year Remodeled also has a positive relationship with mean & median Sale Price as well, which creates an even larger jump in Sale Price when the Overall Quality rating increases."
   ]
  },
  {
   "cell_type": "markdown",
   "metadata": {},
   "source": [
    "## 3. Inference"
   ]
  },
  {
   "cell_type": "markdown",
   "metadata": {},
   "source": [
    "Is there a significant difference in the mean sale price of all Ames, Iowa homes with and without a central air conditioning system?"
   ]
  },
  {
   "cell_type": "markdown",
   "metadata": {},
   "source": [
    "**Parameters:** µ1= Mean sales price for all Ames homes with central air conditioning | µ2= Mean sales price for all Ames homes that do not have central air conditioning"
   ]
  },
  {
   "cell_type": "markdown",
   "metadata": {},
   "source": [
    "**Null Hypothesis:** H0:µ1-µ2=0 | **Alternative Hypothesis:** H1: µ1-µ2≠0"
   ]
  },
  {
   "cell_type": "code",
   "execution_count": 5,
   "metadata": {
    "scrolled": true
   },
   "outputs": [
    {
     "name": "stdout",
     "output_type": "stream",
     "text": [
      "n1= 2734 | n2= 196\n"
     ]
    }
   ],
   "source": [
    "has_ac=df[df['Central_Air']=='Y']\n",
    "no_ac=df[df['Central_Air']=='N']\n",
    "print('n1=',len(has_ac),'|','n2=',len(no_ac))"
   ]
  },
  {
   "cell_type": "markdown",
   "metadata": {},
   "source": [
    "**Central Limit Theorem Conditions**\n",
    "1. The sample of homes with central air conditioning was randomly sampled\n",
    "2. The sample of homes without central air conditioning was randomly sampled\n",
    "3. n1=2734>10% of all Ames homes with central air conditioning\n",
    "4. n2=196<10% of all Ames homes without central air conditioning\n",
    "5. n1=2734>30\n",
    "6. n2=196>30\n",
    "\n",
    "Because n1=2734>10% of all Ames homes with central air conditioning, the independence condition of the Central Limit Theorem is not met. Therefore, my results may not be valid. However, we will still proceed with the hypothesis test."
   ]
  },
  {
   "cell_type": "code",
   "execution_count": 6,
   "metadata": {},
   "outputs": [],
   "source": [
    "point_estimate=has_ac['SalePrice'].mean()-no_ac['SalePrice'].mean()"
   ]
  },
  {
   "cell_type": "markdown",
   "metadata": {},
   "source": [
    "The point estimate represents the sample mean difference, which will be used to calculate the test statistic needed for my hypothesis test."
   ]
  },
  {
   "cell_type": "code",
   "execution_count": 7,
   "metadata": {},
   "outputs": [],
   "source": [
    "standard_error=np.sqrt((has_ac['SalePrice'].std()**2)/2734+(no_ac['SalePrice'].std()**2)/196)"
   ]
  },
  {
   "cell_type": "code",
   "execution_count": 8,
   "metadata": {},
   "outputs": [],
   "source": [
    "test_stat=(point_estimate-0)/standard_error"
   ]
  },
  {
   "cell_type": "markdown",
   "metadata": {},
   "source": [
    "I am using 0 as my population mean in the t-score formula because my null hypothesis is that there is no population mean difference. "
   ]
  },
  {
   "cell_type": "code",
   "execution_count": 9,
   "metadata": {},
   "outputs": [],
   "source": [
    "pvalue=2*(1-t.cdf(np.abs(test_stat), df=196-1))"
   ]
  },
  {
   "cell_type": "code",
   "execution_count": 10,
   "metadata": {},
   "outputs": [
    {
     "name": "stdout",
     "output_type": "stream",
     "text": [
      "Mean Difference= 84562.3082647836 | Standard Error= 3082.478669067721 | Test Stat (t-score)= 27.433217661278743 | p-value: 0.0\n"
     ]
    }
   ],
   "source": [
    "print('Mean Difference=',point_estimate,'|','Standard Error=',standard_error,'|','Test Stat (t-score)=',test_stat,'|','p-value:',pvalue)"
   ]
  },
  {
   "cell_type": "markdown",
   "metadata": {},
   "source": [
    "Based on my hypothesis test, I would reject the null hypothesis because my p-value of 0.0 is less than my significance level of 0.05. Therefore, there is sufficient evidence to suggest there is a significant difference in the mean sales prices of Ames homes with and without central air conditioning. However, it is important to note that this conclusion may not be valid as not all of my central limit theorem conditions are met."
   ]
  },
  {
   "cell_type": "markdown",
   "metadata": {},
   "source": [
    "## 4. Linear Regression"
   ]
  },
  {
   "cell_type": "markdown",
   "metadata": {},
   "source": [
    "Is there a linear relationship between the sale price of a house and the 1st floor square footage, the number of bedrooms above ground, the number of full bathrooms, and the total number of rooms above ground in a house in the Ames dataset? Does this relationship hold true in the population of all houses sold in Ames, Iowa?"
   ]
  },
  {
   "cell_type": "code",
   "execution_count": 11,
   "metadata": {
    "scrolled": true
   },
   "outputs": [
    {
     "data": {
      "text/html": [
       "<table class=\"simpletable\">\n",
       "<caption>OLS Regression Results</caption>\n",
       "<tr>\n",
       "  <th>Dep. Variable:</th>        <td>SalePrice</td>    <th>  R-squared:         </th> <td>   0.548</td> \n",
       "</tr>\n",
       "<tr>\n",
       "  <th>Model:</th>                   <td>OLS</td>       <th>  Adj. R-squared:    </th> <td>   0.548</td> \n",
       "</tr>\n",
       "<tr>\n",
       "  <th>Method:</th>             <td>Least Squares</td>  <th>  F-statistic:       </th> <td>   887.5</td> \n",
       "</tr>\n",
       "<tr>\n",
       "  <th>Date:</th>             <td>Sun, 30 Apr 2023</td> <th>  Prob (F-statistic):</th>  <td>  0.00</td>  \n",
       "</tr>\n",
       "<tr>\n",
       "  <th>Time:</th>                 <td>19:31:06</td>     <th>  Log-Likelihood:    </th> <td> -36068.</td> \n",
       "</tr>\n",
       "<tr>\n",
       "  <th>No. Observations:</th>      <td>  2930</td>      <th>  AIC:               </th> <td>7.215e+04</td>\n",
       "</tr>\n",
       "<tr>\n",
       "  <th>Df Residuals:</th>          <td>  2925</td>      <th>  BIC:               </th> <td>7.218e+04</td>\n",
       "</tr>\n",
       "<tr>\n",
       "  <th>Df Model:</th>              <td>     4</td>      <th>                     </th>     <td> </td>    \n",
       "</tr>\n",
       "<tr>\n",
       "  <th>Covariance Type:</th>      <td>nonrobust</td>    <th>                     </th>     <td> </td>    \n",
       "</tr>\n",
       "</table>\n",
       "<table class=\"simpletable\">\n",
       "<tr>\n",
       "        <td></td>           <th>coef</th>     <th>std err</th>      <th>t</th>      <th>P>|t|</th>  <th>[0.025</th>    <th>0.975]</th>  \n",
       "</tr>\n",
       "<tr>\n",
       "  <th>Intercept</th>     <td>-2.841e+04</td> <td> 4640.059</td> <td>   -6.124</td> <td> 0.000</td> <td>-3.75e+04</td> <td>-1.93e+04</td>\n",
       "</tr>\n",
       "<tr>\n",
       "  <th>X1st_Flr_SF</th>   <td>   82.2409</td> <td>    2.896</td> <td>   28.394</td> <td> 0.000</td> <td>   76.562</td> <td>   87.920</td>\n",
       "</tr>\n",
       "<tr>\n",
       "  <th>Bedroom_AbvGr</th> <td>-2.251e+04</td> <td> 1667.751</td> <td>  -13.497</td> <td> 0.000</td> <td>-2.58e+04</td> <td>-1.92e+04</td>\n",
       "</tr>\n",
       "<tr>\n",
       "  <th>Full_Bath</th>     <td> 4.369e+04</td> <td> 2167.657</td> <td>   20.155</td> <td> 0.000</td> <td> 3.94e+04</td> <td> 4.79e+04</td>\n",
       "</tr>\n",
       "<tr>\n",
       "  <th>TotRms_AbvGrd</th> <td> 1.702e+04</td> <td>  994.804</td> <td>   17.107</td> <td> 0.000</td> <td> 1.51e+04</td> <td>  1.9e+04</td>\n",
       "</tr>\n",
       "</table>\n",
       "<table class=\"simpletable\">\n",
       "<tr>\n",
       "  <th>Omnibus:</th>       <td>458.392</td> <th>  Durbin-Watson:     </th> <td>   1.295</td>\n",
       "</tr>\n",
       "<tr>\n",
       "  <th>Prob(Omnibus):</th> <td> 0.000</td>  <th>  Jarque-Bera (JB):  </th> <td>7495.713</td>\n",
       "</tr>\n",
       "<tr>\n",
       "  <th>Skew:</th>          <td> 0.131</td>  <th>  Prob(JB):          </th> <td>    0.00</td>\n",
       "</tr>\n",
       "<tr>\n",
       "  <th>Kurtosis:</th>      <td>10.831</td>  <th>  Cond. No.          </th> <td>5.77e+03</td>\n",
       "</tr>\n",
       "</table><br/><br/>Notes:<br/>[1] Standard Errors assume that the covariance matrix of the errors is correctly specified.<br/>[2] The condition number is large, 5.77e+03. This might indicate that there are<br/>strong multicollinearity or other numerical problems."
      ],
      "text/plain": [
       "<class 'statsmodels.iolib.summary.Summary'>\n",
       "\"\"\"\n",
       "                            OLS Regression Results                            \n",
       "==============================================================================\n",
       "Dep. Variable:              SalePrice   R-squared:                       0.548\n",
       "Model:                            OLS   Adj. R-squared:                  0.548\n",
       "Method:                 Least Squares   F-statistic:                     887.5\n",
       "Date:                Sun, 30 Apr 2023   Prob (F-statistic):               0.00\n",
       "Time:                        19:31:06   Log-Likelihood:                -36068.\n",
       "No. Observations:                2930   AIC:                         7.215e+04\n",
       "Df Residuals:                    2925   BIC:                         7.218e+04\n",
       "Df Model:                           4                                         \n",
       "Covariance Type:            nonrobust                                         \n",
       "=================================================================================\n",
       "                    coef    std err          t      P>|t|      [0.025      0.975]\n",
       "---------------------------------------------------------------------------------\n",
       "Intercept     -2.841e+04   4640.059     -6.124      0.000   -3.75e+04   -1.93e+04\n",
       "X1st_Flr_SF      82.2409      2.896     28.394      0.000      76.562      87.920\n",
       "Bedroom_AbvGr -2.251e+04   1667.751    -13.497      0.000   -2.58e+04   -1.92e+04\n",
       "Full_Bath      4.369e+04   2167.657     20.155      0.000    3.94e+04    4.79e+04\n",
       "TotRms_AbvGrd  1.702e+04    994.804     17.107      0.000    1.51e+04     1.9e+04\n",
       "==============================================================================\n",
       "Omnibus:                      458.392   Durbin-Watson:                   1.295\n",
       "Prob(Omnibus):                  0.000   Jarque-Bera (JB):             7495.713\n",
       "Skew:                           0.131   Prob(JB):                         0.00\n",
       "Kurtosis:                      10.831   Cond. No.                     5.77e+03\n",
       "==============================================================================\n",
       "\n",
       "Notes:\n",
       "[1] Standard Errors assume that the covariance matrix of the errors is correctly specified.\n",
       "[2] The condition number is large, 5.77e+03. This might indicate that there are\n",
       "strong multicollinearity or other numerical problems.\n",
       "\"\"\""
      ]
     },
     "execution_count": 11,
     "metadata": {},
     "output_type": "execute_result"
    }
   ],
   "source": [
    "model1=smf.ols('SalePrice ~ X1st_Flr_SF+Bedroom_AbvGr+Full_Bath+TotRms_AbvGrd',data=df).fit()\n",
    "model1.summary()"
   ]
  },
  {
   "cell_type": "markdown",
   "metadata": {},
   "source": [
    "**Sale Price Regression Equation:**\n",
    "SalePrice_hat=-2.841e+04 + 82.2409*X1st_Flr_SF* - 2.251e+04*Bedroom_AbvGr* + 4.369e+04*Full_Bath* + 1.702e+04*TotRms_AbvGrd*"
   ]
  },
  {
   "cell_type": "code",
   "execution_count": 12,
   "metadata": {},
   "outputs": [
    {
     "data": {
      "image/png": "[encoded data removed]",
      "text/plain": [
       "<Figure size 640x480 with 1 Axes>"
      ]
     },
     "metadata": {},
     "output_type": "display_data"
    }
   ],
   "source": [
    "sns.regplot(x=model1.fittedvalues, y=model1.resid, ci=None)\n",
    "plt.ylabel('Residual')\n",
    "plt.xlabel('Fitted Value')\n",
    "plt.show()"
   ]
  },
  {
   "cell_type": "markdown",
   "metadata": {},
   "source": [
    "**Linearity Condition:** Because the distribution of points in the plot are not roughly evenly distributed as we move from left to right, the linearity condition is not met."
   ]
  },
  {
   "cell_type": "markdown",
   "metadata": {},
   "source": [
    "**Constant Variability of Residuals Condition:** Because the y-axis spread of points in the plot increases as we move from left to right, this condition is not met."
   ]
  },
  {
   "cell_type": "code",
   "execution_count": 13,
   "metadata": {
    "scrolled": true
   },
   "outputs": [
    {
     "data": {
      "image/png": "[encoded data removed]",
      "text/plain": [
       "<Figure size 640x480 with 1 Axes>"
      ]
     },
     "metadata": {},
     "output_type": "display_data"
    }
   ],
   "source": [
    "plt.hist(model1.resid)\n",
    "plt.xlabel('Residuals')\n",
    "plt.show()"
   ]
  },
  {
   "cell_type": "markdown",
   "metadata": {},
   "source": [
    "**Normality of Residuals (with Mean of 0) Condition:** Although the histogram of residuals is unimodal and looks to have a mean of about 0, the residuals do not follow a bell curve shape, so this condition is not met."
   ]
  },
  {
   "cell_type": "code",
   "execution_count": 14,
   "metadata": {},
   "outputs": [
    {
     "name": "stdout",
     "output_type": "stream",
     "text": [
      "n= 2930\n"
     ]
    }
   ],
   "source": [
    "n=len(df)\n",
    "print('n=',n)"
   ]
  },
  {
   "cell_type": "markdown",
   "metadata": {},
   "source": [
    "**Independence of Residuals Condition:** The data is randomly sampled and n=2930<10% of all Ames, Iowa homes sold. Therefore, the condition for independence may not be violated in this particular way. However, it may still be the case that these residuals are not independent."
   ]
  },
  {
   "cell_type": "code",
   "execution_count": 15,
   "metadata": {
    "scrolled": true
   },
   "outputs": [
    {
     "data": {
      "text/html": [
       "<div>\n",
       "<style scoped>\n",
       "    .dataframe tbody tr th:only-of-type {\n",
       "        vertical-align: middle;\n",
       "    }\n",
       "\n",
       "    .dataframe tbody tr th {\n",
       "        vertical-align: top;\n",
       "    }\n",
       "\n",
       "    .dataframe thead th {\n",
       "        text-align: right;\n",
       "    }\n",
       "</style>\n",
       "<table border=\"1\" class=\"dataframe\">\n",
       "  <thead>\n",
       "    <tr style=\"text-align: right;\">\n",
       "      <th></th>\n",
       "      <th>X1st_Flr_SF</th>\n",
       "      <th>Bedroom_AbvGr</th>\n",
       "      <th>Full_Bath</th>\n",
       "      <th>TotRms_AbvGrd</th>\n",
       "    </tr>\n",
       "  </thead>\n",
       "  <tbody>\n",
       "    <tr>\n",
       "      <th>X1st_Flr_SF</th>\n",
       "      <td>1.000000</td>\n",
       "      <td>0.106648</td>\n",
       "      <td>0.371584</td>\n",
       "      <td>0.390162</td>\n",
       "    </tr>\n",
       "    <tr>\n",
       "      <th>Bedroom_AbvGr</th>\n",
       "      <td>0.106648</td>\n",
       "      <td>1.000000</td>\n",
       "      <td>0.359489</td>\n",
       "      <td>0.672647</td>\n",
       "    </tr>\n",
       "    <tr>\n",
       "      <th>Full_Bath</th>\n",
       "      <td>0.371584</td>\n",
       "      <td>0.359489</td>\n",
       "      <td>1.000000</td>\n",
       "      <td>0.528599</td>\n",
       "    </tr>\n",
       "    <tr>\n",
       "      <th>TotRms_AbvGrd</th>\n",
       "      <td>0.390162</td>\n",
       "      <td>0.672647</td>\n",
       "      <td>0.528599</td>\n",
       "      <td>1.000000</td>\n",
       "    </tr>\n",
       "  </tbody>\n",
       "</table>\n",
       "</div>"
      ],
      "text/plain": [
       "               X1st_Flr_SF  Bedroom_AbvGr  Full_Bath  TotRms_AbvGrd\n",
       "X1st_Flr_SF       1.000000       0.106648   0.371584       0.390162\n",
       "Bedroom_AbvGr     0.106648       1.000000   0.359489       0.672647\n",
       "Full_Bath         0.371584       0.359489   1.000000       0.528599\n",
       "TotRms_AbvGrd     0.390162       0.672647   0.528599       1.000000"
      ]
     },
     "execution_count": 15,
     "metadata": {},
     "output_type": "execute_result"
    }
   ],
   "source": [
    "df[['X1st_Flr_SF','Bedroom_AbvGr','Full_Bath','TotRms_AbvGrd']].corr()"
   ]
  },
  {
   "cell_type": "markdown",
   "metadata": {},
   "source": [
    "**No Multicollinearity Condition:** There is a pretty strong linear relationship between the explanatory variables Bedrooms Above Ground and Total Rooms Above Ground. Thus, the multicollinearity condition is violated."
   ]
  },
  {
   "cell_type": "code",
   "execution_count": 16,
   "metadata": {},
   "outputs": [
    {
     "data": {
      "text/plain": [
       "0.5201353049321964"
      ]
     },
     "execution_count": 16,
     "metadata": {},
     "output_type": "execute_result"
    }
   ],
   "source": [
    "model_no_bed=smf.ols('SalePrice ~ X1st_Flr_SF+Full_Bath+TotRms_AbvGrd',data=df).fit()\n",
    "model_no_bed.rsquared"
   ]
  },
  {
   "cell_type": "code",
   "execution_count": 17,
   "metadata": {},
   "outputs": [
    {
     "data": {
      "text/plain": [
       "0.503069021036386"
      ]
     },
     "execution_count": 17,
     "metadata": {},
     "output_type": "execute_result"
    }
   ],
   "source": [
    "model_no_tot=smf.ols('SalePrice ~ X1st_Flr_SF+Bedroom_AbvGr+Full_Bath',data=df).fit()\n",
    "model_no_tot.rsquared"
   ]
  },
  {
   "cell_type": "markdown",
   "metadata": {},
   "source": [
    "Since the r-squared in the model without the Bedrooms Above Ground variable is higher, I am not going to include that variable in my re-fitted model. This is because the model without Bedrooms Above Ground can explain more variability of the Sale Price."
   ]
  },
  {
   "cell_type": "code",
   "execution_count": 18,
   "metadata": {},
   "outputs": [
    {
     "data": {
      "text/html": [
       "<table class=\"simpletable\">\n",
       "<caption>OLS Regression Results</caption>\n",
       "<tr>\n",
       "  <th>Dep. Variable:</th>        <td>SalePrice</td>    <th>  R-squared:         </th> <td>   0.520</td> \n",
       "</tr>\n",
       "<tr>\n",
       "  <th>Model:</th>                   <td>OLS</td>       <th>  Adj. R-squared:    </th> <td>   0.520</td> \n",
       "</tr>\n",
       "<tr>\n",
       "  <th>Method:</th>             <td>Least Squares</td>  <th>  F-statistic:       </th> <td>   1057.</td> \n",
       "</tr>\n",
       "<tr>\n",
       "  <th>Date:</th>             <td>Sun, 30 Apr 2023</td> <th>  Prob (F-statistic):</th>  <td>  0.00</td>  \n",
       "</tr>\n",
       "<tr>\n",
       "  <th>Time:</th>                 <td>19:31:07</td>     <th>  Log-Likelihood:    </th> <td> -36156.</td> \n",
       "</tr>\n",
       "<tr>\n",
       "  <th>No. Observations:</th>      <td>  2930</td>      <th>  AIC:               </th> <td>7.232e+04</td>\n",
       "</tr>\n",
       "<tr>\n",
       "  <th>Df Residuals:</th>          <td>  2926</td>      <th>  BIC:               </th> <td>7.234e+04</td>\n",
       "</tr>\n",
       "<tr>\n",
       "  <th>Df Model:</th>              <td>     3</td>      <th>                     </th>     <td> </td>    \n",
       "</tr>\n",
       "<tr>\n",
       "  <th>Covariance Type:</th>      <td>nonrobust</td>    <th>                     </th>     <td> </td>    \n",
       "</tr>\n",
       "</table>\n",
       "<table class=\"simpletable\">\n",
       "<tr>\n",
       "        <td></td>           <th>coef</th>     <th>std err</th>      <th>t</th>      <th>P>|t|</th>  <th>[0.025</th>    <th>0.975]</th>  \n",
       "</tr>\n",
       "<tr>\n",
       "  <th>Intercept</th>     <td>-4.561e+04</td> <td> 4597.708</td> <td>   -9.921</td> <td> 0.000</td> <td>-5.46e+04</td> <td>-3.66e+04</td>\n",
       "</tr>\n",
       "<tr>\n",
       "  <th>X1st_Flr_SF</th>   <td>   91.4399</td> <td>    2.901</td> <td>   31.521</td> <td> 0.000</td> <td>   85.752</td> <td>   97.128</td>\n",
       "</tr>\n",
       "<tr>\n",
       "  <th>Full_Bath</th>     <td> 4.201e+04</td> <td> 2230.069</td> <td>   18.838</td> <td> 0.000</td> <td> 3.76e+04</td> <td> 4.64e+04</td>\n",
       "</tr>\n",
       "<tr>\n",
       "  <th>TotRms_AbvGrd</th> <td> 8469.1324</td> <td>  790.447</td> <td>   10.714</td> <td> 0.000</td> <td> 6919.244</td> <td>    1e+04</td>\n",
       "</tr>\n",
       "</table>\n",
       "<table class=\"simpletable\">\n",
       "<tr>\n",
       "  <th>Omnibus:</th>       <td>455.399</td> <th>  Durbin-Watson:     </th> <td>   1.244</td>\n",
       "</tr>\n",
       "<tr>\n",
       "  <th>Prob(Omnibus):</th> <td> 0.000</td>  <th>  Jarque-Bera (JB):  </th> <td>5147.379</td>\n",
       "</tr>\n",
       "<tr>\n",
       "  <th>Skew:</th>          <td> 0.358</td>  <th>  Prob(JB):          </th> <td>    0.00</td>\n",
       "</tr>\n",
       "<tr>\n",
       "  <th>Kurtosis:</th>      <td> 9.454</td>  <th>  Cond. No.          </th> <td>5.54e+03</td>\n",
       "</tr>\n",
       "</table><br/><br/>Notes:<br/>[1] Standard Errors assume that the covariance matrix of the errors is correctly specified.<br/>[2] The condition number is large, 5.54e+03. This might indicate that there are<br/>strong multicollinearity or other numerical problems."
      ],
      "text/plain": [
       "<class 'statsmodels.iolib.summary.Summary'>\n",
       "\"\"\"\n",
       "                            OLS Regression Results                            \n",
       "==============================================================================\n",
       "Dep. Variable:              SalePrice   R-squared:                       0.520\n",
       "Model:                            OLS   Adj. R-squared:                  0.520\n",
       "Method:                 Least Squares   F-statistic:                     1057.\n",
       "Date:                Sun, 30 Apr 2023   Prob (F-statistic):               0.00\n",
       "Time:                        19:31:07   Log-Likelihood:                -36156.\n",
       "No. Observations:                2930   AIC:                         7.232e+04\n",
       "Df Residuals:                    2926   BIC:                         7.234e+04\n",
       "Df Model:                           3                                         \n",
       "Covariance Type:            nonrobust                                         \n",
       "=================================================================================\n",
       "                    coef    std err          t      P>|t|      [0.025      0.975]\n",
       "---------------------------------------------------------------------------------\n",
       "Intercept     -4.561e+04   4597.708     -9.921      0.000   -5.46e+04   -3.66e+04\n",
       "X1st_Flr_SF      91.4399      2.901     31.521      0.000      85.752      97.128\n",
       "Full_Bath      4.201e+04   2230.069     18.838      0.000    3.76e+04    4.64e+04\n",
       "TotRms_AbvGrd  8469.1324    790.447     10.714      0.000    6919.244       1e+04\n",
       "==============================================================================\n",
       "Omnibus:                      455.399   Durbin-Watson:                   1.244\n",
       "Prob(Omnibus):                  0.000   Jarque-Bera (JB):             5147.379\n",
       "Skew:                           0.358   Prob(JB):                         0.00\n",
       "Kurtosis:                       9.454   Cond. No.                     5.54e+03\n",
       "==============================================================================\n",
       "\n",
       "Notes:\n",
       "[1] Standard Errors assume that the covariance matrix of the errors is correctly specified.\n",
       "[2] The condition number is large, 5.54e+03. This might indicate that there are\n",
       "strong multicollinearity or other numerical problems.\n",
       "\"\"\""
      ]
     },
     "execution_count": 18,
     "metadata": {},
     "output_type": "execute_result"
    }
   ],
   "source": [
    "model_no_bed.summary()"
   ]
  },
  {
   "cell_type": "code",
   "execution_count": 19,
   "metadata": {},
   "outputs": [
    {
     "data": {
      "image/png": "[encoded data removed]",
      "text/plain": [
       "<Figure size 640x480 with 1 Axes>"
      ]
     },
     "metadata": {},
     "output_type": "display_data"
    }
   ],
   "source": [
    "sns.regplot(x=model_no_bed.fittedvalues, y=model_no_bed.resid, ci=None)\n",
    "plt.ylabel('Residual')\n",
    "plt.xlabel('Fitted Value')\n",
    "plt.show()"
   ]
  },
  {
   "cell_type": "markdown",
   "metadata": {},
   "source": [
    "**Linearity Condition:** Because the distribution of points in the plot are roughly evenly distributed as we move from left to right, the linearity condition is met."
   ]
  },
  {
   "cell_type": "markdown",
   "metadata": {},
   "source": [
    "**Constant Variability of Residuals Condition:** Because the y-axis spread of points in the plot increases as we move from left to right, this condition is not met."
   ]
  },
  {
   "cell_type": "code",
   "execution_count": 20,
   "metadata": {},
   "outputs": [
    {
     "data": {
      "image/png": "[encoded data removed]",
      "text/plain": [
       "<Figure size 640x480 with 1 Axes>"
      ]
     },
     "metadata": {},
     "output_type": "display_data"
    }
   ],
   "source": [
    "plt.hist(model_no_bed.resid)\n",
    "plt.xlabel('Residuals')\n",
    "plt.show()"
   ]
  },
  {
   "cell_type": "markdown",
   "metadata": {},
   "source": [
    "**Normality of Residuals (with Mean of 0) Condition:** Because the histogram appears to be normally distributed with a mean of about 0, the assumption that the residuals are normally distributed is met."
   ]
  },
  {
   "cell_type": "markdown",
   "metadata": {},
   "source": [
    "**Independence of Residuals Condition:** Since the sample size did not change, my explanation will remain the same: the data is randomly sampled and n=2930<10% of all Ames, Iowa homes sold. Therefore, the condition for independence may not be violated in this particular way. However, it may still be the case that these residuals are not independent."
   ]
  },
  {
   "cell_type": "code",
   "execution_count": 21,
   "metadata": {},
   "outputs": [
    {
     "data": {
      "text/html": [
       "<div>\n",
       "<style scoped>\n",
       "    .dataframe tbody tr th:only-of-type {\n",
       "        vertical-align: middle;\n",
       "    }\n",
       "\n",
       "    .dataframe tbody tr th {\n",
       "        vertical-align: top;\n",
       "    }\n",
       "\n",
       "    .dataframe thead th {\n",
       "        text-align: right;\n",
       "    }\n",
       "</style>\n",
       "<table border=\"1\" class=\"dataframe\">\n",
       "  <thead>\n",
       "    <tr style=\"text-align: right;\">\n",
       "      <th></th>\n",
       "      <th>X1st_Flr_SF</th>\n",
       "      <th>Full_Bath</th>\n",
       "      <th>TotRms_AbvGrd</th>\n",
       "    </tr>\n",
       "  </thead>\n",
       "  <tbody>\n",
       "    <tr>\n",
       "      <th>X1st_Flr_SF</th>\n",
       "      <td>1.000000</td>\n",
       "      <td>0.371584</td>\n",
       "      <td>0.390162</td>\n",
       "    </tr>\n",
       "    <tr>\n",
       "      <th>Full_Bath</th>\n",
       "      <td>0.371584</td>\n",
       "      <td>1.000000</td>\n",
       "      <td>0.528599</td>\n",
       "    </tr>\n",
       "    <tr>\n",
       "      <th>TotRms_AbvGrd</th>\n",
       "      <td>0.390162</td>\n",
       "      <td>0.528599</td>\n",
       "      <td>1.000000</td>\n",
       "    </tr>\n",
       "  </tbody>\n",
       "</table>\n",
       "</div>"
      ],
      "text/plain": [
       "               X1st_Flr_SF  Full_Bath  TotRms_AbvGrd\n",
       "X1st_Flr_SF       1.000000   0.371584       0.390162\n",
       "Full_Bath         0.371584   1.000000       0.528599\n",
       "TotRms_AbvGrd     0.390162   0.528599       1.000000"
      ]
     },
     "execution_count": 21,
     "metadata": {},
     "output_type": "execute_result"
    }
   ],
   "source": [
    "df[['X1st_Flr_SF','Full_Bath','TotRms_AbvGrd']].corr()"
   ]
  },
  {
   "cell_type": "markdown",
   "metadata": {},
   "source": [
    "**No Multicollinearity Condition:** There is not a strong correlation between any of the 3 remaining explanatory variables. Thus, the multicollinearity condition is met."
   ]
  },
  {
   "cell_type": "markdown",
   "metadata": {},
   "source": [
    "**Variability in Sale Price:** 52.0% of the variability in Sale Price in my sample of Ames homes can be explained our model expalanatory variables: 1st Floor Square Footage, Number of Full Bathrooms, and Total Number of Rooms above Ground. This percentage is moderately high, meaning the model is a moderately strong fit to the data."
   ]
  },
  {
   "cell_type": "markdown",
   "metadata": {},
   "source": [
    "**Non-Zero Slopes:** For each of the 3 slopes in our model, the p-value calculated in the summary table is used to test a null hypothesis that the slope is equal to 0 and an alternative hypothesis that the slope is non-zero, and thus has a linear relationship with Sale Price. Since the p-value of all 3 slopes was 0.000, which is less than our significance level of 0.05, there is sufficient evidence to suggest that all 3 slopes (1st Floor Square Footage, Number of Full Bathrooms, and Total Rooms Above Ground) are non-zero.   "
   ]
  },
  {
   "cell_type": "markdown",
   "metadata": {},
   "source": [
    "**Theoretical Sale Price Prediction:** To demonstrate my re-fitted model, I'm going to pretend that I am a homeowner looking to sell my house in Ames for a fair price. My home has 1250 square feet on the 1st floor, 2 full bathrooms, and 7 total rooms above ground."
   ]
  },
  {
   "cell_type": "code",
   "execution_count": 22,
   "metadata": {},
   "outputs": [
    {
     "data": {
      "text/plain": [
       "0    211992.597734\n",
       "dtype: float64"
      ]
     },
     "execution_count": 22,
     "metadata": {},
     "output_type": "execute_result"
    }
   ],
   "source": [
    "model_no_bed.predict (exog=dict(X1st_Flr_SF=1250,Full_Bath=2,TotRms_AbvGrd=7))"
   ]
  },
  {
   "cell_type": "markdown",
   "metadata": {},
   "source": [
    "Using my re-fitted model, I can determine that a fair sales price for my home in Ames would be $211,922.60."
   ]
  },
  {
   "cell_type": "markdown",
   "metadata": {},
   "source": [
    "Based on my linear regression analysis, I found that there is a linear relationship between the sale price of a house and the 1st floor square footage, the number of full bathrooms, and the total number of rooms above ground for houses in Ames, Iowa. This can be supported by the R-squared value, .520, which means that 52% of variation in sale price can be explained by 1st floor square footage, number of full bathrooms, and total number of rooms above ground. Additionally, since there was sufficient evidence to suggest that all 3 slopes were non-zero for the population, it is likely that the relationship will hold true for all houses sold in Ames, Iowa, not just those from the sample."
   ]
  },
  {
   "cell_type": "markdown",
   "metadata": {},
   "source": [
    "## 5. Logistic Regression"
   ]
  },
  {
   "cell_type": "markdown",
   "metadata": {},
   "source": [
    "Is there evidence of a linear relationship between the log-odds of a foundation being Cinderblock and the Year a house was built, its external quality, basement quality, and the basement's exposure? Does this relationship hold true in the population of all houses in Ames, Iowa?"
   ]
  },
  {
   "cell_type": "code",
   "execution_count": 23,
   "metadata": {},
   "outputs": [
    {
     "data": {
      "text/html": [
       "<div>\n",
       "<style scoped>\n",
       "    .dataframe tbody tr th:only-of-type {\n",
       "        vertical-align: middle;\n",
       "    }\n",
       "\n",
       "    .dataframe tbody tr th {\n",
       "        vertical-align: top;\n",
       "    }\n",
       "\n",
       "    .dataframe thead th {\n",
       "        text-align: right;\n",
       "    }\n",
       "</style>\n",
       "<table border=\"1\" class=\"dataframe\">\n",
       "  <thead>\n",
       "    <tr style=\"text-align: right;\">\n",
       "      <th></th>\n",
       "      <th>Order</th>\n",
       "      <th>PID</th>\n",
       "      <th>MSSubClass</th>\n",
       "      <th>MS_Zoning</th>\n",
       "      <th>Lot_Frontage</th>\n",
       "      <th>Lot_Area</th>\n",
       "      <th>Street</th>\n",
       "      <th>Alley</th>\n",
       "      <th>Lot_Shape</th>\n",
       "      <th>Land_Contour</th>\n",
       "      <th>...</th>\n",
       "      <th>Pool_QC</th>\n",
       "      <th>Fence</th>\n",
       "      <th>Misc_Feature</th>\n",
       "      <th>Misc_Val</th>\n",
       "      <th>Mo_Sold</th>\n",
       "      <th>Yr_Sold</th>\n",
       "      <th>Sale_Type</th>\n",
       "      <th>Sale_Condition</th>\n",
       "      <th>SalePrice</th>\n",
       "      <th>Foundation_CBlock</th>\n",
       "    </tr>\n",
       "  </thead>\n",
       "  <tbody>\n",
       "    <tr>\n",
       "      <th>0</th>\n",
       "      <td>1</td>\n",
       "      <td>526301100</td>\n",
       "      <td>20</td>\n",
       "      <td>RL</td>\n",
       "      <td>141.0</td>\n",
       "      <td>31770</td>\n",
       "      <td>Pave</td>\n",
       "      <td>NaN</td>\n",
       "      <td>IR1</td>\n",
       "      <td>Lvl</td>\n",
       "      <td>...</td>\n",
       "      <td>NaN</td>\n",
       "      <td>NaN</td>\n",
       "      <td>NaN</td>\n",
       "      <td>0</td>\n",
       "      <td>5</td>\n",
       "      <td>2010</td>\n",
       "      <td>WD</td>\n",
       "      <td>Normal</td>\n",
       "      <td>215000</td>\n",
       "      <td>1</td>\n",
       "    </tr>\n",
       "    <tr>\n",
       "      <th>1</th>\n",
       "      <td>2</td>\n",
       "      <td>526350040</td>\n",
       "      <td>20</td>\n",
       "      <td>RH</td>\n",
       "      <td>80.0</td>\n",
       "      <td>11622</td>\n",
       "      <td>Pave</td>\n",
       "      <td>NaN</td>\n",
       "      <td>Reg</td>\n",
       "      <td>Lvl</td>\n",
       "      <td>...</td>\n",
       "      <td>NaN</td>\n",
       "      <td>MnPrv</td>\n",
       "      <td>NaN</td>\n",
       "      <td>0</td>\n",
       "      <td>6</td>\n",
       "      <td>2010</td>\n",
       "      <td>WD</td>\n",
       "      <td>Normal</td>\n",
       "      <td>105000</td>\n",
       "      <td>1</td>\n",
       "    </tr>\n",
       "    <tr>\n",
       "      <th>2</th>\n",
       "      <td>3</td>\n",
       "      <td>526351010</td>\n",
       "      <td>20</td>\n",
       "      <td>RL</td>\n",
       "      <td>81.0</td>\n",
       "      <td>14267</td>\n",
       "      <td>Pave</td>\n",
       "      <td>NaN</td>\n",
       "      <td>IR1</td>\n",
       "      <td>Lvl</td>\n",
       "      <td>...</td>\n",
       "      <td>NaN</td>\n",
       "      <td>NaN</td>\n",
       "      <td>Gar2</td>\n",
       "      <td>12500</td>\n",
       "      <td>6</td>\n",
       "      <td>2010</td>\n",
       "      <td>WD</td>\n",
       "      <td>Normal</td>\n",
       "      <td>172000</td>\n",
       "      <td>1</td>\n",
       "    </tr>\n",
       "    <tr>\n",
       "      <th>3</th>\n",
       "      <td>4</td>\n",
       "      <td>526353030</td>\n",
       "      <td>20</td>\n",
       "      <td>RL</td>\n",
       "      <td>93.0</td>\n",
       "      <td>11160</td>\n",
       "      <td>Pave</td>\n",
       "      <td>NaN</td>\n",
       "      <td>Reg</td>\n",
       "      <td>Lvl</td>\n",
       "      <td>...</td>\n",
       "      <td>NaN</td>\n",
       "      <td>NaN</td>\n",
       "      <td>NaN</td>\n",
       "      <td>0</td>\n",
       "      <td>4</td>\n",
       "      <td>2010</td>\n",
       "      <td>WD</td>\n",
       "      <td>Normal</td>\n",
       "      <td>244000</td>\n",
       "      <td>1</td>\n",
       "    </tr>\n",
       "    <tr>\n",
       "      <th>4</th>\n",
       "      <td>5</td>\n",
       "      <td>527105010</td>\n",
       "      <td>60</td>\n",
       "      <td>RL</td>\n",
       "      <td>74.0</td>\n",
       "      <td>13830</td>\n",
       "      <td>Pave</td>\n",
       "      <td>NaN</td>\n",
       "      <td>IR1</td>\n",
       "      <td>Lvl</td>\n",
       "      <td>...</td>\n",
       "      <td>NaN</td>\n",
       "      <td>MnPrv</td>\n",
       "      <td>NaN</td>\n",
       "      <td>0</td>\n",
       "      <td>3</td>\n",
       "      <td>2010</td>\n",
       "      <td>WD</td>\n",
       "      <td>Normal</td>\n",
       "      <td>189900</td>\n",
       "      <td>0</td>\n",
       "    </tr>\n",
       "  </tbody>\n",
       "</table>\n",
       "<p>5 rows × 83 columns</p>\n",
       "</div>"
      ],
      "text/plain": [
       "   Order        PID  MSSubClass MS_Zoning  Lot_Frontage  Lot_Area Street  \\\n",
       "0      1  526301100          20        RL         141.0     31770   Pave   \n",
       "1      2  526350040          20        RH          80.0     11622   Pave   \n",
       "2      3  526351010          20        RL          81.0     14267   Pave   \n",
       "3      4  526353030          20        RL          93.0     11160   Pave   \n",
       "4      5  527105010          60        RL          74.0     13830   Pave   \n",
       "\n",
       "  Alley Lot_Shape Land_Contour  ... Pool_QC  Fence Misc_Feature Misc_Val  \\\n",
       "0   NaN       IR1          Lvl  ...     NaN    NaN          NaN        0   \n",
       "1   NaN       Reg          Lvl  ...     NaN  MnPrv          NaN        0   \n",
       "2   NaN       IR1          Lvl  ...     NaN    NaN         Gar2    12500   \n",
       "3   NaN       Reg          Lvl  ...     NaN    NaN          NaN        0   \n",
       "4   NaN       IR1          Lvl  ...     NaN  MnPrv          NaN        0   \n",
       "\n",
       "  Mo_Sold Yr_Sold Sale_Type Sale_Condition  SalePrice  Foundation_CBlock  \n",
       "0       5    2010       WD          Normal     215000                  1  \n",
       "1       6    2010       WD          Normal     105000                  1  \n",
       "2       6    2010       WD          Normal     172000                  1  \n",
       "3       4    2010       WD          Normal     244000                  1  \n",
       "4       3    2010       WD          Normal     189900                  0  \n",
       "\n",
       "[5 rows x 83 columns]"
      ]
     },
     "execution_count": 23,
     "metadata": {},
     "output_type": "execute_result"
    }
   ],
   "source": [
    "df['Foundation_CBlock'] = df['Foundation'].map({'CBlock': 1, 'BrkTil': 0, 'PConc': 0, 'Slab': 0, 'Stone': 0, 'Wood': 0})\n",
    "df.head()"
   ]
  },
  {
   "cell_type": "markdown",
   "metadata": {},
   "source": [
    "The 'Foundation_CBlock' variable I added to the dataframe records a 1 if the foundation type is 'CBlock'--short for cinderblock--or 0 if the foundation type is not cinderblock."
   ]
  },
  {
   "cell_type": "code",
   "execution_count": 24,
   "metadata": {},
   "outputs": [],
   "source": [
    "df_train, df_test = train_test_split(df,test_size=0.25,random_state=123)"
   ]
  },
  {
   "cell_type": "markdown",
   "metadata": {},
   "source": []
  },
  {
   "cell_type": "code",
   "execution_count": 25,
   "metadata": {
    "scrolled": false
   },
   "outputs": [
    {
     "name": "stdout",
     "output_type": "stream",
     "text": [
      "Warning: Maximum number of iterations has been exceeded.\n",
      "         Current function value: 0.465543\n",
      "         Iterations: 35\n",
      "ITERATION 1: BIC of the Current Model 2077.9912967342125\n"
     ]
    },
    {
     "name": "stderr",
     "output_type": "stream",
     "text": [
      "C:\\Users\\bfran\\miniconda3\\lib\\site-packages\\statsmodels\\base\\model.py:604: ConvergenceWarning: Maximum Likelihood optimization failed to converge. Check mle_retvals\n",
      "  warnings.warn(\"Maximum Likelihood optimization failed to \"\n"
     ]
    }
   ],
   "source": [
    "current_mod=smf.logit('Foundation_CBlock ~ Year_Built+Exter_Qual+Bsmt_Qual+Bsmt_Exposure', data=df_train).fit()\n",
    "print('ITERATION 1: BIC of the Current Model',current_mod.bic)"
   ]
  },
  {
   "cell_type": "code",
   "execution_count": 26,
   "metadata": {},
   "outputs": [
    {
     "name": "stdout",
     "output_type": "stream",
     "text": [
      "Warning: Maximum number of iterations has been exceeded.\n",
      "         Current function value: 0.481352\n",
      "         Iterations: 35\n"
     ]
    },
    {
     "name": "stderr",
     "output_type": "stream",
     "text": [
      "C:\\Users\\bfran\\miniconda3\\lib\\site-packages\\statsmodels\\base\\model.py:604: ConvergenceWarning: Maximum Likelihood optimization failed to converge. Check mle_retvals\n",
      "  warnings.warn(\"Maximum Likelihood optimization failed to \"\n"
     ]
    },
    {
     "name": "stdout",
     "output_type": "stream",
     "text": [
      "BIC of Test Model that Deletes YEAR BUILT from the Current Model 2137.763737925579\n"
     ]
    }
   ],
   "source": [
    "no_yb_mod=smf.logit('Foundation_CBlock ~ Exter_Qual+Bsmt_Qual+Bsmt_Exposure', data=df_train).fit()\n",
    "print('BIC of Test Model that Deletes YEAR BUILT from the Current Model',no_yb_mod.bic)"
   ]
  },
  {
   "cell_type": "code",
   "execution_count": 27,
   "metadata": {},
   "outputs": [
    {
     "name": "stdout",
     "output_type": "stream",
     "text": [
      "Warning: Maximum number of iterations has been exceeded.\n",
      "         Current function value: 0.521778\n",
      "         Iterations: 35\n",
      "BIC of Test Model that Deletes EXTERNAL QUALITY from the Current Model 2294.892556770859\n"
     ]
    },
    {
     "name": "stderr",
     "output_type": "stream",
     "text": [
      "C:\\Users\\bfran\\miniconda3\\lib\\site-packages\\statsmodels\\base\\model.py:604: ConvergenceWarning: Maximum Likelihood optimization failed to converge. Check mle_retvals\n",
      "  warnings.warn(\"Maximum Likelihood optimization failed to \"\n"
     ]
    }
   ],
   "source": [
    "no_eq_mod=smf.logit('Foundation_CBlock ~ Year_Built+Bsmt_Qual+Bsmt_Exposure', data=df_train).fit()\n",
    "print('BIC of Test Model that Deletes EXTERNAL QUALITY from the Current Model',no_eq_mod.bic)"
   ]
  },
  {
   "cell_type": "code",
   "execution_count": 28,
   "metadata": {},
   "outputs": [
    {
     "name": "stdout",
     "output_type": "stream",
     "text": [
      "Optimization terminated successfully.\n",
      "         Current function value: 0.520219\n",
      "         Iterations 7\n",
      "BIC of Test Model that Deletes BASEMENT QUALITY from the Current Model 2280.57863925028\n"
     ]
    }
   ],
   "source": [
    "no_bq_mod=smf.logit('Foundation_CBlock ~ Year_Built+Exter_Qual+Bsmt_Exposure', data=df_train).fit()\n",
    "print('BIC of Test Model that Deletes BASEMENT QUALITY from the Current Model',no_bq_mod.bic)"
   ]
  },
  {
   "cell_type": "code",
   "execution_count": 29,
   "metadata": {},
   "outputs": [
    {
     "name": "stdout",
     "output_type": "stream",
     "text": [
      "Warning: Maximum number of iterations has been exceeded.\n",
      "         Current function value: 0.475837\n",
      "         Iterations: 35\n",
      "BIC of Test Model that Deletes BASEMENT EXPOSURE from the Current Model 2100.8212091163155\n"
     ]
    },
    {
     "name": "stderr",
     "output_type": "stream",
     "text": [
      "C:\\Users\\bfran\\miniconda3\\lib\\site-packages\\statsmodels\\base\\model.py:604: ConvergenceWarning: Maximum Likelihood optimization failed to converge. Check mle_retvals\n",
      "  warnings.warn(\"Maximum Likelihood optimization failed to \"\n"
     ]
    }
   ],
   "source": [
    "no_be_mod=smf.logit('Foundation_CBlock ~ Year_Built+Exter_Qual+Bsmt_Qual', data=df_train).fit()\n",
    "print('BIC of Test Model that Deletes BASEMENT EXPOSURE from the Current Model',no_be_mod.bic)"
   ]
  },
  {
   "cell_type": "markdown",
   "metadata": {},
   "source": [
    "Because there were no test models that had a lower than the BIC score of the current model (2077.99), we must stop the algorithm and return to the current model with explanatory variables Year Built, External Quality, Basement Quality, and Basement Exposure as our final model."
   ]
  },
  {
   "cell_type": "markdown",
   "metadata": {},
   "source": [
    "**Final Logistic Regression Model Summary and Equation:**"
   ]
  },
  {
   "cell_type": "code",
   "execution_count": 30,
   "metadata": {
    "scrolled": true
   },
   "outputs": [
    {
     "data": {
      "text/html": [
       "<table class=\"simpletable\">\n",
       "<caption>Logit Regression Results</caption>\n",
       "<tr>\n",
       "  <th>Dep. Variable:</th>   <td>Foundation_CBlock</td> <th>  No. Observations:  </th>   <td>  2133</td>  \n",
       "</tr>\n",
       "<tr>\n",
       "  <th>Model:</th>                 <td>Logit</td>       <th>  Df Residuals:      </th>   <td>  2121</td>  \n",
       "</tr>\n",
       "<tr>\n",
       "  <th>Method:</th>                 <td>MLE</td>        <th>  Df Model:          </th>   <td>    11</td>  \n",
       "</tr>\n",
       "<tr>\n",
       "  <th>Date:</th>            <td>Sun, 30 Apr 2023</td>  <th>  Pseudo R-squ.:     </th>   <td>0.3146</td>  \n",
       "</tr>\n",
       "<tr>\n",
       "  <th>Time:</th>                <td>19:31:09</td>      <th>  Log-Likelihood:    </th>  <td> -993.00</td> \n",
       "</tr>\n",
       "<tr>\n",
       "  <th>converged:</th>             <td>False</td>       <th>  LL-Null:           </th>  <td> -1448.8</td> \n",
       "</tr>\n",
       "<tr>\n",
       "  <th>Covariance Type:</th>     <td>nonrobust</td>     <th>  LLR p-value:       </th> <td>1.990e-188</td>\n",
       "</tr>\n",
       "</table>\n",
       "<table class=\"simpletable\">\n",
       "<tr>\n",
       "           <td></td>              <th>coef</th>     <th>std err</th>      <th>z</th>      <th>P>|z|</th>  <th>[0.025</th>    <th>0.975]</th>  \n",
       "</tr>\n",
       "<tr>\n",
       "  <th>Intercept</th>           <td>  -50.1702</td> <td>    5.907</td> <td>   -8.493</td> <td> 0.000</td> <td>  -61.749</td> <td>  -38.592</td>\n",
       "</tr>\n",
       "<tr>\n",
       "  <th>Exter_Qual[T.Fa]</th>    <td>    2.7253</td> <td>    0.822</td> <td>    3.316</td> <td> 0.001</td> <td>    1.115</td> <td>    4.336</td>\n",
       "</tr>\n",
       "<tr>\n",
       "  <th>Exter_Qual[T.Gd]</th>    <td>    0.1354</td> <td>    0.687</td> <td>    0.197</td> <td> 0.844</td> <td>   -1.212</td> <td>    1.482</td>\n",
       "</tr>\n",
       "<tr>\n",
       "  <th>Exter_Qual[T.TA]</th>    <td>    2.5022</td> <td>    0.690</td> <td>    3.628</td> <td> 0.000</td> <td>    1.151</td> <td>    3.854</td>\n",
       "</tr>\n",
       "<tr>\n",
       "  <th>Bsmt_Qual[T.Fa]</th>     <td>    3.3730</td> <td>    0.629</td> <td>    5.366</td> <td> 0.000</td> <td>    2.141</td> <td>    4.605</td>\n",
       "</tr>\n",
       "<tr>\n",
       "  <th>Bsmt_Qual[T.Gd]</th>     <td>    2.2536</td> <td>    0.521</td> <td>    4.326</td> <td> 0.000</td> <td>    1.233</td> <td>    3.275</td>\n",
       "</tr>\n",
       "<tr>\n",
       "  <th>Bsmt_Qual[T.Po]</th>     <td>  -12.6337</td> <td> 3947.214</td> <td>   -0.003</td> <td> 0.997</td> <td>-7749.031</td> <td> 7723.764</td>\n",
       "</tr>\n",
       "<tr>\n",
       "  <th>Bsmt_Qual[T.TA]</th>     <td>    4.4465</td> <td>    0.548</td> <td>    8.114</td> <td> 0.000</td> <td>    3.372</td> <td>    5.521</td>\n",
       "</tr>\n",
       "<tr>\n",
       "  <th>Bsmt_Exposure[T.Gd]</th> <td>    0.6256</td> <td>    0.252</td> <td>    2.484</td> <td> 0.013</td> <td>    0.132</td> <td>    1.119</td>\n",
       "</tr>\n",
       "<tr>\n",
       "  <th>Bsmt_Exposure[T.Mn]</th> <td>   -0.5967</td> <td>    0.252</td> <td>   -2.366</td> <td> 0.018</td> <td>   -1.091</td> <td>   -0.102</td>\n",
       "</tr>\n",
       "<tr>\n",
       "  <th>Bsmt_Exposure[T.No]</th> <td>   -0.7324</td> <td>    0.182</td> <td>   -4.033</td> <td> 0.000</td> <td>   -1.088</td> <td>   -0.377</td>\n",
       "</tr>\n",
       "<tr>\n",
       "  <th>Year_Built</th>          <td>    0.0230</td> <td>    0.003</td> <td>    7.870</td> <td> 0.000</td> <td>    0.017</td> <td>    0.029</td>\n",
       "</tr>\n",
       "</table>"
      ],
      "text/plain": [
       "<class 'statsmodels.iolib.summary.Summary'>\n",
       "\"\"\"\n",
       "                           Logit Regression Results                           \n",
       "==============================================================================\n",
       "Dep. Variable:      Foundation_CBlock   No. Observations:                 2133\n",
       "Model:                          Logit   Df Residuals:                     2121\n",
       "Method:                           MLE   Df Model:                           11\n",
       "Date:                Sun, 30 Apr 2023   Pseudo R-squ.:                  0.3146\n",
       "Time:                        19:31:09   Log-Likelihood:                -993.00\n",
       "converged:                      False   LL-Null:                       -1448.8\n",
       "Covariance Type:            nonrobust   LLR p-value:                1.990e-188\n",
       "=======================================================================================\n",
       "                          coef    std err          z      P>|z|      [0.025      0.975]\n",
       "---------------------------------------------------------------------------------------\n",
       "Intercept             -50.1702      5.907     -8.493      0.000     -61.749     -38.592\n",
       "Exter_Qual[T.Fa]        2.7253      0.822      3.316      0.001       1.115       4.336\n",
       "Exter_Qual[T.Gd]        0.1354      0.687      0.197      0.844      -1.212       1.482\n",
       "Exter_Qual[T.TA]        2.5022      0.690      3.628      0.000       1.151       3.854\n",
       "Bsmt_Qual[T.Fa]         3.3730      0.629      5.366      0.000       2.141       4.605\n",
       "Bsmt_Qual[T.Gd]         2.2536      0.521      4.326      0.000       1.233       3.275\n",
       "Bsmt_Qual[T.Po]       -12.6337   3947.214     -0.003      0.997   -7749.031    7723.764\n",
       "Bsmt_Qual[T.TA]         4.4465      0.548      8.114      0.000       3.372       5.521\n",
       "Bsmt_Exposure[T.Gd]     0.6256      0.252      2.484      0.013       0.132       1.119\n",
       "Bsmt_Exposure[T.Mn]    -0.5967      0.252     -2.366      0.018      -1.091      -0.102\n",
       "Bsmt_Exposure[T.No]    -0.7324      0.182     -4.033      0.000      -1.088      -0.377\n",
       "Year_Built              0.0230      0.003      7.870      0.000       0.017       0.029\n",
       "=======================================================================================\n",
       "\"\"\""
      ]
     },
     "execution_count": 30,
     "metadata": {},
     "output_type": "execute_result"
    }
   ],
   "source": [
    "current_mod.summary()"
   ]
  },
  {
   "cell_type": "markdown",
   "metadata": {},
   "source": [
    "logit(P(Foundation_CBlock=1)) = -50.1702 + 2.7253*(Exter_Qual[T.Fa]) + 0.1354*(Exter_Qual[T.Gd]) + 2.5022*(Exter_Qual[T.TA]) + 3.3730*(Bsmt_Qual[T.Fa]) + 2.2536*(Bsmt_Qual[T.Gd]) - 12.6337*(Bsmt_Qual[T.Po]) + 4.4465*(Bsmt_Qual[T.TA]) + 0.6256*(Bsmt_Exposure[T.Gd]) - 0.5967*(Bsmt_Exposure[T.Mn]) - 0.7324*(Bsmt_Exposure[T.No]) + 0.0230*(Year_Built)"
   ]
  },
  {
   "cell_type": "markdown",
   "metadata": {},
   "source": [
    "**Non-Zero Slopes:** For each of the slopes in our model, the p-value calculated in the summary table is used to test a null hypothesis that the slope is equal to 0 and an alternative hypothesis that the slope is non-zero, and thus has a linear relationship with the log-odds of the foundation type being Cinderblock. Since the p-value of all slopes except *Good External Quality and Poor Basement Quality* were less than our significance level of 0.05, there is sufficient evidence to suggest that the slopes *Fair External Quality, Typical External Quality, Fair Basement Quality, Good Basement Quality, Typical Basement Quality, Good Basement Exposure, Minimum Basement Exposure, No Basement Exposure, and Year Built*  are non-zero."
   ]
  },
  {
   "cell_type": "code",
   "execution_count": 31,
   "metadata": {},
   "outputs": [
    {
     "data": {
      "text/plain": [
       "655     0.278443\n",
       "645     0.734680\n",
       "80      0.375817\n",
       "1927    0.303773\n",
       "2030    0.614533\n",
       "2134    0.498764\n",
       "2663    0.495832\n",
       "1356    0.529733\n",
       "2199    0.558819\n",
       "2834    0.273845\n",
       "dtype: float64"
      ]
     },
     "execution_count": 31,
     "metadata": {},
     "output_type": "execute_result"
    }
   ],
   "source": [
    "Foundation_CBlock_test=current_mod.predict(exog=df_test)\n",
    "Foundation_CBlock_test.head(10)"
   ]
  },
  {
   "cell_type": "code",
   "execution_count": 32,
   "metadata": {
    "scrolled": true
   },
   "outputs": [
    {
     "data": {
      "text/html": [
       "<div>\n",
       "<style scoped>\n",
       "    .dataframe tbody tr th:only-of-type {\n",
       "        vertical-align: middle;\n",
       "    }\n",
       "\n",
       "    .dataframe tbody tr th {\n",
       "        vertical-align: top;\n",
       "    }\n",
       "\n",
       "    .dataframe thead th {\n",
       "        text-align: right;\n",
       "    }\n",
       "</style>\n",
       "<table border=\"1\" class=\"dataframe\">\n",
       "  <thead>\n",
       "    <tr style=\"text-align: right;\">\n",
       "      <th></th>\n",
       "      <th>Order</th>\n",
       "      <th>PID</th>\n",
       "      <th>MSSubClass</th>\n",
       "      <th>MS_Zoning</th>\n",
       "      <th>Lot_Frontage</th>\n",
       "      <th>Lot_Area</th>\n",
       "      <th>Street</th>\n",
       "      <th>Alley</th>\n",
       "      <th>Lot_Shape</th>\n",
       "      <th>Land_Contour</th>\n",
       "      <th>...</th>\n",
       "      <th>Fence</th>\n",
       "      <th>Misc_Feature</th>\n",
       "      <th>Misc_Val</th>\n",
       "      <th>Mo_Sold</th>\n",
       "      <th>Yr_Sold</th>\n",
       "      <th>Sale_Type</th>\n",
       "      <th>Sale_Condition</th>\n",
       "      <th>SalePrice</th>\n",
       "      <th>Foundation_CBlock</th>\n",
       "      <th>Foundation_CBlock_test</th>\n",
       "    </tr>\n",
       "  </thead>\n",
       "  <tbody>\n",
       "    <tr>\n",
       "      <th>655</th>\n",
       "      <td>656</td>\n",
       "      <td>535375050</td>\n",
       "      <td>50</td>\n",
       "      <td>RL</td>\n",
       "      <td>60.0</td>\n",
       "      <td>10410</td>\n",
       "      <td>Pave</td>\n",
       "      <td>NaN</td>\n",
       "      <td>Reg</td>\n",
       "      <td>Lvl</td>\n",
       "      <td>...</td>\n",
       "      <td>MnPrv</td>\n",
       "      <td>NaN</td>\n",
       "      <td>0</td>\n",
       "      <td>8</td>\n",
       "      <td>2009</td>\n",
       "      <td>WD</td>\n",
       "      <td>Normal</td>\n",
       "      <td>135000</td>\n",
       "      <td>1</td>\n",
       "      <td>0.278443</td>\n",
       "    </tr>\n",
       "    <tr>\n",
       "      <th>645</th>\n",
       "      <td>646</td>\n",
       "      <td>535325290</td>\n",
       "      <td>20</td>\n",
       "      <td>RL</td>\n",
       "      <td>60.0</td>\n",
       "      <td>10434</td>\n",
       "      <td>Pave</td>\n",
       "      <td>NaN</td>\n",
       "      <td>Reg</td>\n",
       "      <td>Lvl</td>\n",
       "      <td>...</td>\n",
       "      <td>NaN</td>\n",
       "      <td>NaN</td>\n",
       "      <td>0</td>\n",
       "      <td>11</td>\n",
       "      <td>2009</td>\n",
       "      <td>WD</td>\n",
       "      <td>Normal</td>\n",
       "      <td>115000</td>\n",
       "      <td>1</td>\n",
       "      <td>0.734680</td>\n",
       "    </tr>\n",
       "    <tr>\n",
       "      <th>80</th>\n",
       "      <td>81</td>\n",
       "      <td>531453010</td>\n",
       "      <td>20</td>\n",
       "      <td>RL</td>\n",
       "      <td>81.0</td>\n",
       "      <td>9672</td>\n",
       "      <td>Pave</td>\n",
       "      <td>NaN</td>\n",
       "      <td>Reg</td>\n",
       "      <td>Lvl</td>\n",
       "      <td>...</td>\n",
       "      <td>GdPrv</td>\n",
       "      <td>NaN</td>\n",
       "      <td>0</td>\n",
       "      <td>5</td>\n",
       "      <td>2010</td>\n",
       "      <td>WD</td>\n",
       "      <td>Normal</td>\n",
       "      <td>152000</td>\n",
       "      <td>0</td>\n",
       "      <td>0.375817</td>\n",
       "    </tr>\n",
       "    <tr>\n",
       "      <th>1927</th>\n",
       "      <td>1928</td>\n",
       "      <td>535181030</td>\n",
       "      <td>20</td>\n",
       "      <td>RL</td>\n",
       "      <td>NaN</td>\n",
       "      <td>12155</td>\n",
       "      <td>Pave</td>\n",
       "      <td>NaN</td>\n",
       "      <td>IR3</td>\n",
       "      <td>Lvl</td>\n",
       "      <td>...</td>\n",
       "      <td>NaN</td>\n",
       "      <td>NaN</td>\n",
       "      <td>0</td>\n",
       "      <td>3</td>\n",
       "      <td>2007</td>\n",
       "      <td>WD</td>\n",
       "      <td>Normal</td>\n",
       "      <td>163500</td>\n",
       "      <td>1</td>\n",
       "      <td>0.303773</td>\n",
       "    </tr>\n",
       "    <tr>\n",
       "      <th>2030</th>\n",
       "      <td>2031</td>\n",
       "      <td>903450060</td>\n",
       "      <td>50</td>\n",
       "      <td>RM</td>\n",
       "      <td>NaN</td>\n",
       "      <td>7758</td>\n",
       "      <td>Pave</td>\n",
       "      <td>NaN</td>\n",
       "      <td>Reg</td>\n",
       "      <td>Lvl</td>\n",
       "      <td>...</td>\n",
       "      <td>NaN</td>\n",
       "      <td>NaN</td>\n",
       "      <td>0</td>\n",
       "      <td>6</td>\n",
       "      <td>2007</td>\n",
       "      <td>WD</td>\n",
       "      <td>Normal</td>\n",
       "      <td>169500</td>\n",
       "      <td>0</td>\n",
       "      <td>0.614533</td>\n",
       "    </tr>\n",
       "  </tbody>\n",
       "</table>\n",
       "<p>5 rows × 84 columns</p>\n",
       "</div>"
      ],
      "text/plain": [
       "      Order        PID  MSSubClass MS_Zoning  Lot_Frontage  Lot_Area Street  \\\n",
       "655     656  535375050          50        RL          60.0     10410   Pave   \n",
       "645     646  535325290          20        RL          60.0     10434   Pave   \n",
       "80       81  531453010          20        RL          81.0      9672   Pave   \n",
       "1927   1928  535181030          20        RL           NaN     12155   Pave   \n",
       "2030   2031  903450060          50        RM           NaN      7758   Pave   \n",
       "\n",
       "     Alley Lot_Shape Land_Contour  ...  Fence Misc_Feature Misc_Val Mo_Sold  \\\n",
       "655    NaN       Reg          Lvl  ...  MnPrv          NaN        0       8   \n",
       "645    NaN       Reg          Lvl  ...    NaN          NaN        0      11   \n",
       "80     NaN       Reg          Lvl  ...  GdPrv          NaN        0       5   \n",
       "1927   NaN       IR3          Lvl  ...    NaN          NaN        0       3   \n",
       "2030   NaN       Reg          Lvl  ...    NaN          NaN        0       6   \n",
       "\n",
       "     Yr_Sold Sale_Type Sale_Condition SalePrice  Foundation_CBlock  \\\n",
       "655     2009       WD          Normal    135000                  1   \n",
       "645     2009       WD          Normal    115000                  1   \n",
       "80      2010       WD          Normal    152000                  0   \n",
       "1927    2007       WD          Normal    163500                  1   \n",
       "2030    2007       WD          Normal    169500                  0   \n",
       "\n",
       "      Foundation_CBlock_test  \n",
       "655                 0.278443  \n",
       "645                 0.734680  \n",
       "80                  0.375817  \n",
       "1927                0.303773  \n",
       "2030                0.614533  \n",
       "\n",
       "[5 rows x 84 columns]"
      ]
     },
     "execution_count": 32,
     "metadata": {},
     "output_type": "execute_result"
    }
   ],
   "source": [
    "df_test['Foundation_CBlock_test']=Foundation_CBlock_test\n",
    "df_test.head()"
   ]
  },
  {
   "cell_type": "markdown",
   "metadata": {},
   "source": [
    "The *Foundation_CBlock_test* variable provides the model's predicted value for whether or not the foundation type is cinderblock."
   ]
  },
  {
   "cell_type": "code",
   "execution_count": 33,
   "metadata": {},
   "outputs": [
    {
     "data": {
      "text/plain": [
       "False    714\n",
       "True      19\n",
       "Name: Foundation_CBlock_test, dtype: int64"
      ]
     },
     "execution_count": 33,
     "metadata": {},
     "output_type": "execute_result"
    }
   ],
   "source": [
    "df_test['Foundation_CBlock_test'].isna().value_counts()"
   ]
  },
  {
   "cell_type": "code",
   "execution_count": 34,
   "metadata": {
    "scrolled": true
   },
   "outputs": [
    {
     "data": {
      "text/plain": [
       "False    733\n",
       "Name: Foundation_CBlock, dtype: int64"
      ]
     },
     "execution_count": 34,
     "metadata": {},
     "output_type": "execute_result"
    }
   ],
   "source": [
    "df_test['Foundation_CBlock'].isna().value_counts()"
   ]
  },
  {
   "cell_type": "code",
   "execution_count": 35,
   "metadata": {
    "scrolled": false
   },
   "outputs": [
    {
     "data": {
      "text/html": [
       "<div>\n",
       "<style scoped>\n",
       "    .dataframe tbody tr th:only-of-type {\n",
       "        vertical-align: middle;\n",
       "    }\n",
       "\n",
       "    .dataframe tbody tr th {\n",
       "        vertical-align: top;\n",
       "    }\n",
       "\n",
       "    .dataframe thead th {\n",
       "        text-align: right;\n",
       "    }\n",
       "</style>\n",
       "<table border=\"1\" class=\"dataframe\">\n",
       "  <thead>\n",
       "    <tr style=\"text-align: right;\">\n",
       "      <th></th>\n",
       "      <th>Foundation_CBlock</th>\n",
       "      <th>Foundation_CBlock_test</th>\n",
       "    </tr>\n",
       "  </thead>\n",
       "  <tbody>\n",
       "    <tr>\n",
       "      <th>655</th>\n",
       "      <td>1</td>\n",
       "      <td>0.278443</td>\n",
       "    </tr>\n",
       "    <tr>\n",
       "      <th>645</th>\n",
       "      <td>1</td>\n",
       "      <td>0.734680</td>\n",
       "    </tr>\n",
       "    <tr>\n",
       "      <th>80</th>\n",
       "      <td>0</td>\n",
       "      <td>0.375817</td>\n",
       "    </tr>\n",
       "    <tr>\n",
       "      <th>1927</th>\n",
       "      <td>1</td>\n",
       "      <td>0.303773</td>\n",
       "    </tr>\n",
       "    <tr>\n",
       "      <th>2030</th>\n",
       "      <td>0</td>\n",
       "      <td>0.614533</td>\n",
       "    </tr>\n",
       "  </tbody>\n",
       "</table>\n",
       "</div>"
      ],
      "text/plain": [
       "      Foundation_CBlock  Foundation_CBlock_test\n",
       "655                   1                0.278443\n",
       "645                   1                0.734680\n",
       "80                    0                0.375817\n",
       "1927                  1                0.303773\n",
       "2030                  0                0.614533"
      ]
     },
     "execution_count": 35,
     "metadata": {},
     "output_type": "execute_result"
    }
   ],
   "source": [
    "df_test=df_test[['Foundation_CBlock','Foundation_CBlock_test']]\n",
    "df_test.head()"
   ]
  },
  {
   "cell_type": "code",
   "execution_count": 36,
   "metadata": {},
   "outputs": [],
   "source": [
    "df_test=df_test.dropna()"
   ]
  },
  {
   "cell_type": "markdown",
   "metadata": {},
   "source": [
    "Initially my ROC and AUC calculations below were not working because there were missing values. The steps I just performed above ensured I was able to drop only the rows with missing values that I needed for the calculation."
   ]
  },
  {
   "cell_type": "code",
   "execution_count": 37,
   "metadata": {},
   "outputs": [],
   "source": [
    "fpr, tpr, thresholds = roc_curve(df_test['Foundation_CBlock'], df_test['Foundation_CBlock_test'])\n",
    "auc = roc_auc_score(df_test['Foundation_CBlock'], df_test['Foundation_CBlock_test'])"
   ]
  },
  {
   "cell_type": "code",
   "execution_count": 38,
   "metadata": {},
   "outputs": [],
   "source": [
    "def plot_roc(fpr, tpr, auc, lw=2):\n",
    "    plt.plot(fpr, tpr, color='darkorange', lw=lw,\n",
    "             label='ROC curve (area = '+str(round(auc,3))+')')\n",
    "    plt.plot([0, 1], [0, 1], color='navy', lw=lw, linestyle='--' )\n",
    "    plt.xlabel('False Positive Rate')\n",
    "    plt.ylabel('True Positive Rate')\n",
    "    plt.title('ROC Curve')\n",
    "    plt.legend(loc=\"lower right\")\n",
    "    plt.show()"
   ]
  },
  {
   "cell_type": "code",
   "execution_count": 39,
   "metadata": {},
   "outputs": [
    {
     "data": {
      "image/png": "[encoded data removed]",
      "text/plain": [
       "<Figure size 640x480 with 1 Axes>"
      ]
     },
     "metadata": {},
     "output_type": "display_data"
    }
   ],
   "source": [
    "plot_roc(fpr,tpr,auc)"
   ]
  },
  {
   "cell_type": "markdown",
   "metadata": {},
   "source": [
    "Using my ROC curve, I would choose a threshold that would give a TPR of about .65 and an FPR of about .1. This is because the ROC curve seems to level off around an FPR of 0.1, meaning that my TPR would be about the same even if my FPR increased. That is not ideal, as we would like to keep TPR high and FPR low, since some buyers may really want a house with a cinderblock foundation and would not settle for something different."
   ]
  },
  {
   "cell_type": "code",
   "execution_count": 40,
   "metadata": {},
   "outputs": [],
   "source": [
    "def tpr_fpr_thresh(y, pred_prob, thresh):\n",
    "    yhat = 1*(pred_prob >= thresh)\n",
    "    tn, fp, fn, tp = confusion_matrix(y_true=y, y_pred=yhat).ravel()\n",
    "    tpr = tp / (fn + tp)\n",
    "    fpr = fp / (fp + tn)\n",
    "    return pd.DataFrame({'threshold':[thresh],\n",
    "                         'tpr':[tpr],\n",
    "                         'fpr':[fpr]})"
   ]
  },
  {
   "cell_type": "code",
   "execution_count": 41,
   "metadata": {},
   "outputs": [
    {
     "name": "stdout",
     "output_type": "stream",
     "text": [
      "   threshold  tpr  fpr\n",
      "0        0.0  1.0  1.0\n",
      "   threshold  tpr       fpr\n",
      "0       0.01  1.0  0.957895\n",
      "   threshold  tpr       fpr\n",
      "0       0.02  1.0  0.915789\n",
      "   threshold       tpr       fpr\n",
      "0       0.03  0.997006  0.905263\n",
      "   threshold       tpr       fpr\n",
      "0       0.04  0.994012  0.860526\n",
      "   threshold       tpr       fpr\n",
      "0       0.05  0.976048  0.857895\n",
      "   threshold       tpr   fpr\n",
      "0       0.06  0.967066  0.85\n",
      "   threshold       tpr       fpr\n",
      "0       0.07  0.964072  0.813158\n",
      "   threshold       tpr       fpr\n",
      "0       0.08  0.964072  0.726316\n",
      "   threshold       tpr       fpr\n",
      "0       0.09  0.958084  0.581579\n",
      "   threshold       tpr       fpr\n",
      "0        0.1  0.958084  0.552632\n",
      "   threshold       tpr       fpr\n",
      "0       0.11  0.952096  0.547368\n",
      "   threshold       tpr       fpr\n",
      "0       0.12  0.949102  0.536842\n",
      "   threshold       tpr       fpr\n",
      "0       0.13  0.949102  0.528947\n",
      "   threshold       tpr       fpr\n",
      "0       0.14  0.949102  0.521053\n",
      "   threshold       tpr       fpr\n",
      "0       0.15  0.943114  0.510526\n",
      "   threshold      tpr       fpr\n",
      "0       0.16  0.94012  0.465789\n",
      "   threshold      tpr       fpr\n",
      "0       0.17  0.94012  0.436842\n",
      "   threshold       tpr       fpr\n",
      "0       0.18  0.937126  0.434211\n",
      "   threshold       tpr       fpr\n",
      "0       0.19  0.931138  0.428947\n",
      "   threshold       tpr       fpr\n",
      "0        0.2  0.916168  0.428947\n",
      "   threshold       tpr       fpr\n",
      "0       0.21  0.913174  0.428947\n",
      "   threshold       tpr       fpr\n",
      "0       0.22  0.913174  0.418421\n",
      "   threshold       tpr       fpr\n",
      "0       0.23  0.907186  0.415789\n",
      "   threshold       tpr       fpr\n",
      "0       0.24  0.904192  0.413158\n",
      "   threshold       tpr       fpr\n",
      "0       0.25  0.892216  0.410526\n",
      "   threshold       tpr       fpr\n",
      "0       0.26  0.889222  0.397368\n",
      "   threshold       tpr       fpr\n",
      "0       0.27  0.886228  0.392105\n",
      "   threshold      tpr       fpr\n",
      "0       0.28  0.88024  0.384211\n",
      "   threshold       tpr       fpr\n",
      "0       0.29  0.877246  0.384211\n",
      "   threshold       tpr       fpr\n",
      "0        0.3  0.859281  0.378947\n",
      "   threshold       tpr       fpr\n",
      "0       0.31  0.844311  0.371053\n",
      "   threshold       tpr       fpr\n",
      "0       0.32  0.835329  0.371053\n",
      "   threshold       tpr       fpr\n",
      "0       0.33  0.826347  0.368421\n",
      "   threshold       tpr       fpr\n",
      "0       0.34  0.811377  0.360526\n",
      "   threshold       tpr       fpr\n",
      "0       0.35  0.802395  0.357895\n",
      "   threshold       tpr       fpr\n",
      "0       0.36  0.790419  0.355263\n",
      "   threshold       tpr       fpr\n",
      "0       0.37  0.790419  0.352632\n",
      "   threshold       tpr   fpr\n",
      "0       0.38  0.784431  0.35\n",
      "   threshold       tpr       fpr\n",
      "0       0.39  0.784431  0.347368\n",
      "   threshold       tpr       fpr\n",
      "0        0.4  0.778443  0.344737\n",
      "   threshold       tpr       fpr\n",
      "0       0.41  0.769461  0.339474\n",
      "   threshold       tpr       fpr\n",
      "0       0.42  0.763473  0.334211\n",
      "   threshold       tpr       fpr\n",
      "0       0.43  0.760479  0.334211\n",
      "   threshold       tpr       fpr\n",
      "0       0.44  0.757485  0.305263\n",
      "   threshold       tpr       fpr\n",
      "0       0.45  0.754491  0.286842\n",
      "   threshold       tpr       fpr\n",
      "0       0.46  0.754491  0.278947\n",
      "   threshold       tpr       fpr\n",
      "0       0.47  0.748503  0.273684\n",
      "   threshold       tpr       fpr\n",
      "0       0.48  0.742515  0.268421\n",
      "   threshold       tpr       fpr\n",
      "0       0.49  0.730539  0.263158\n",
      "   threshold       tpr       fpr\n",
      "0        0.5  0.718563  0.242105\n",
      "   threshold       tpr       fpr\n",
      "0       0.51  0.715569  0.234211\n",
      "   threshold       tpr       fpr\n",
      "0       0.52  0.715569  0.231579\n",
      "   threshold       tpr       fpr\n",
      "0       0.53  0.712575  0.215789\n",
      "   threshold       tpr       fpr\n",
      "0       0.54  0.706587  0.210526\n",
      "   threshold       tpr       fpr\n",
      "0       0.55  0.703593  0.207895\n",
      "   threshold       tpr       fpr\n",
      "0       0.56  0.694611  0.184211\n",
      "   threshold       tpr       fpr\n",
      "0       0.57  0.694611  0.184211\n",
      "   threshold       tpr       fpr\n",
      "0       0.58  0.691617  0.173684\n",
      "   threshold       tpr       fpr\n",
      "0       0.59  0.688623  0.139474\n",
      "   threshold       tpr       fpr\n",
      "0        0.6  0.685629  0.131579\n",
      "   threshold       tpr       fpr\n",
      "0       0.61  0.682635  0.110526\n",
      "   threshold       tpr       fpr\n",
      "0       0.62  0.676647  0.102632\n",
      "   threshold       tpr       fpr\n",
      "0       0.63  0.673653  0.094737\n",
      "   threshold       tpr       fpr\n",
      "0       0.64  0.670659  0.084211\n",
      "   threshold       tpr       fpr\n",
      "0       0.65  0.661677  0.078947\n",
      "   threshold       tpr       fpr\n",
      "0       0.66  0.646707  0.073684\n",
      "   threshold       tpr       fpr\n",
      "0       0.67  0.607784  0.068421\n",
      "   threshold       tpr       fpr\n",
      "0       0.68  0.595808  0.068421\n",
      "   threshold      tpr       fpr\n",
      "0       0.69  0.58982  0.065789\n",
      "   threshold       tpr       fpr\n",
      "0        0.7  0.568862  0.060526\n",
      "   threshold      tpr       fpr\n",
      "0       0.71  0.55988  0.055263\n",
      "   threshold       tpr       fpr\n",
      "0       0.72  0.535928  0.052632\n",
      "   threshold       tpr   fpr\n",
      "0       0.73  0.508982  0.05\n",
      "   threshold       tpr       fpr\n",
      "0       0.74  0.473054  0.044737\n",
      "   threshold       tpr       fpr\n",
      "0       0.75  0.428144  0.042105\n",
      "   threshold       tpr       fpr\n",
      "0       0.76  0.398204  0.028947\n",
      "   threshold       tpr       fpr\n",
      "0       0.77  0.347305  0.023684\n",
      "   threshold       tpr       fpr\n",
      "0       0.78  0.317365  0.023684\n",
      "   threshold       tpr       fpr\n",
      "0       0.79  0.251497  0.023684\n",
      "   threshold       tpr       fpr\n",
      "0        0.8  0.212575  0.021053\n",
      "   threshold       tpr       fpr\n",
      "0       0.81  0.158683  0.021053\n",
      "   threshold       tpr       fpr\n",
      "0       0.82  0.122754  0.021053\n",
      "   threshold       tpr       fpr\n",
      "0       0.83  0.113772  0.018421\n",
      "   threshold       tpr       fpr\n",
      "0       0.84  0.098802  0.018421\n",
      "   threshold      tpr       fpr\n",
      "0       0.85  0.08982  0.013158\n",
      "   threshold       tpr       fpr\n",
      "0       0.86  0.083832  0.013158\n",
      "   threshold      tpr       fpr\n",
      "0       0.87  0.07485  0.013158\n",
      "   threshold       tpr       fpr\n",
      "0       0.88  0.065868  0.010526\n",
      "   threshold       tpr       fpr\n",
      "0       0.89  0.050898  0.005263\n",
      "   threshold      tpr       fpr\n",
      "0        0.9  0.04491  0.005263\n",
      "   threshold       tpr       fpr\n",
      "0       0.91  0.032934  0.002632\n",
      "   threshold       tpr       fpr\n",
      "0       0.92  0.026946  0.002632\n",
      "   threshold       tpr       fpr\n",
      "0       0.93  0.011976  0.002632\n",
      "   threshold  tpr       fpr\n",
      "0       0.94  0.0  0.002632\n",
      "   threshold  tpr  fpr\n",
      "0       0.95  0.0  0.0\n",
      "   threshold  tpr  fpr\n",
      "0       0.96  0.0  0.0\n",
      "   threshold  tpr  fpr\n",
      "0       0.97  0.0  0.0\n",
      "   threshold  tpr  fpr\n",
      "0       0.98  0.0  0.0\n",
      "   threshold  tpr  fpr\n",
      "0       0.99  0.0  0.0\n"
     ]
    }
   ],
   "source": [
    "for thresh in np.arange(0,1,.01):\n",
    "    print(tpr_fpr_thresh(df_test['Foundation_CBlock'], df_test['Foundation_CBlock_test'], thresh))"
   ]
  },
  {
   "cell_type": "markdown",
   "metadata": {},
   "source": [
    "Using the function above, I was able to find the predictive probability threshold that corresponds closest to an FPR of 0.1 and TPR of 0.65 is about 0.62."
   ]
  },
  {
   "cell_type": "code",
   "execution_count": 42,
   "metadata": {},
   "outputs": [
    {
     "data": {
      "text/html": [
       "<div>\n",
       "<style scoped>\n",
       "    .dataframe tbody tr th:only-of-type {\n",
       "        vertical-align: middle;\n",
       "    }\n",
       "\n",
       "    .dataframe tbody tr th {\n",
       "        vertical-align: top;\n",
       "    }\n",
       "\n",
       "    .dataframe thead th {\n",
       "        text-align: right;\n",
       "    }\n",
       "</style>\n",
       "<table border=\"1\" class=\"dataframe\">\n",
       "  <thead>\n",
       "    <tr style=\"text-align: right;\">\n",
       "      <th></th>\n",
       "      <th>Foundation_CBlock</th>\n",
       "      <th>Foundation_CBlock_test</th>\n",
       "      <th>Foundation_CBlock_classified</th>\n",
       "    </tr>\n",
       "  </thead>\n",
       "  <tbody>\n",
       "    <tr>\n",
       "      <th>655</th>\n",
       "      <td>1</td>\n",
       "      <td>0.278443</td>\n",
       "      <td>0</td>\n",
       "    </tr>\n",
       "    <tr>\n",
       "      <th>645</th>\n",
       "      <td>1</td>\n",
       "      <td>0.734680</td>\n",
       "      <td>1</td>\n",
       "    </tr>\n",
       "    <tr>\n",
       "      <th>80</th>\n",
       "      <td>0</td>\n",
       "      <td>0.375817</td>\n",
       "      <td>0</td>\n",
       "    </tr>\n",
       "    <tr>\n",
       "      <th>1927</th>\n",
       "      <td>1</td>\n",
       "      <td>0.303773</td>\n",
       "      <td>0</td>\n",
       "    </tr>\n",
       "    <tr>\n",
       "      <th>2030</th>\n",
       "      <td>0</td>\n",
       "      <td>0.614533</td>\n",
       "      <td>0</td>\n",
       "    </tr>\n",
       "  </tbody>\n",
       "</table>\n",
       "</div>"
      ],
      "text/plain": [
       "      Foundation_CBlock  Foundation_CBlock_test  Foundation_CBlock_classified\n",
       "655                   1                0.278443                             0\n",
       "645                   1                0.734680                             1\n",
       "80                    0                0.375817                             0\n",
       "1927                  1                0.303773                             0\n",
       "2030                  0                0.614533                             0"
      ]
     },
     "execution_count": 42,
     "metadata": {},
     "output_type": "execute_result"
    }
   ],
   "source": [
    "df_test['Foundation_CBlock_classified']=1*(df_test['Foundation_CBlock_test']>0.62)\n",
    "df_test.head()"
   ]
  },
  {
   "cell_type": "code",
   "execution_count": 43,
   "metadata": {},
   "outputs": [
    {
     "data": {
      "text/plain": [
       "(341, 39, 108, 226)"
      ]
     },
     "execution_count": 43,
     "metadata": {},
     "output_type": "execute_result"
    }
   ],
   "source": [
    "tn, fp, fn, tp = confusion_matrix(y_true=df_test['Foundation_CBlock'], y_pred=df_test['Foundation_CBlock_classified']).ravel()\n",
    "(tn, fp, fn, tp)"
   ]
  },
  {
   "cell_type": "code",
   "execution_count": 44,
   "metadata": {},
   "outputs": [
    {
     "name": "stdout",
     "output_type": "stream",
     "text": [
      "sensitivity (True Positive Rate): 0.6766467065868264\n"
     ]
    }
   ],
   "source": [
    "sensitivity=tp/(tp+fn)\n",
    "print('sensitivity (True Positive Rate):', sensitivity)"
   ]
  },
  {
   "cell_type": "code",
   "execution_count": 45,
   "metadata": {},
   "outputs": [
    {
     "name": "stdout",
     "output_type": "stream",
     "text": [
      "false positive rate: 0.10263157894736842\n"
     ]
    }
   ],
   "source": [
    "false_positive_rate=fp/(tn+fp)\n",
    "print('false positive rate:', false_positive_rate)"
   ]
  },
  {
   "cell_type": "markdown",
   "metadata": {},
   "source": [
    "The True Positive Rate and False Positive Rate of my predictive probability threshold when classifying the data are about .6766 and .1026, respectively. "
   ]
  },
  {
   "cell_type": "markdown",
   "metadata": {},
   "source": [
    "In my logistic regression analysis, I determined that there is a linear relationship between log-odds of a foundation being Cinderblock and the Year a house was built, its external quality, basement quality, and the basement's exposure. This is because the logistic regression model's AUC was 0.845, which is a high value. This means that the model was a strong fit to the data. Additionally, since all but two slopes had sufficient evidence of being non-zero in the population model, it is likely that the model's fit will be strong on the population as well. Lastly, homebuyers will know that the model will correctly classify an Ames, Iowa home's foundation as Cinderblock about 67% of the time, and can use this when making predictions for homes they are interested in.  "
   ]
  },
  {
   "cell_type": "markdown",
   "metadata": {},
   "source": [
    "## 6. Conclusion"
   ]
  },
  {
   "cell_type": "markdown",
   "metadata": {},
   "source": [
    "**Research Findings:**"
   ]
  },
  {
   "cell_type": "markdown",
   "metadata": {},
   "source": [
    "My goal with this research was to be able to Sale Prices of homes in Ames, Iowa, as well as the features that define these homes. I will describe what I found from each research question below."
   ]
  },
  {
   "cell_type": "markdown",
   "metadata": {},
   "source": [
    "**Descriptive Analytics:**"
   ]
  },
  {
   "cell_type": "markdown",
   "metadata": {},
   "source": [
    "Beginning with my Descriptive Analytics question, I found that the there was a positive relationship between the Year a home was remodeled and its Sale Price, as well as between the Overall Quality rating of a home and its Sale Price. This was shown in the scatterplot, which had the Sale Price of home increase on the y-axis as the Year Remodeled increased on the x-axis. As the Sale Price increased on the y-axis, the shade of color lightened, meaning the Overall Quality rating was increasing as well. Additionally, through the .describe() function's summary tables, the exact numerical values of center (mean & median) demonstrated the same positive relationship for each set of variables. With the increasing price, however, came increased variability in sale price. I calculated this by finding the difference in IQRs for the latest remodel year and earliest remodel year, as well as the highest overall quality rating and lowest overall quality rating. Lastly, to determine how Overall Quality impacted the relationship between Sale Price and Remodel Year, I grouped Overall Quality and Remodel Year together to make a summary table. Within this table, I was able to determine that Overall Quality still had the same positive relationship with Sale Price regardless of the remodel year. Therefore, I determined that the relationship between Remodel Year and Sale Price was impacted by Overall Quality through a compounded in increase in Sale Price, thanks to its separate, independent relationship."
   ]
  },
  {
   "cell_type": "markdown",
   "metadata": {},
   "source": [
    "**Inference (Hypothesis Testing) Analysis:**"
   ]
  },
  {
   "cell_type": "markdown",
   "metadata": {},
   "source": [
    "My goal with this question was to determine if having a central air conditioning system significantly impacted its mean sale price. To determine this, I conducted a hypothesis test on the mean difference of sale price for homes with and without central air conditioning, using a significance level of 0.05. The null hypothesis was that there was no difference in mean sale price. The p-value obtained from this test was ~0.00, which was less than my significance level of 0.05. Therefore, I rejected my null hypothesis because there was sufficient evidence to support the claim that there is a significant difference between mean sale price of Ames, Iowa homes that have central air conditioning and Ames, Iowa homes that do not have central air conditioning."
   ]
  },
  {
   "cell_type": "markdown",
   "metadata": {},
   "source": [
    "**Linear Regression Analysis:**"
   ]
  },
  {
   "cell_type": "markdown",
   "metadata": {},
   "source": [
    "Based on my linear regression analysis, I found that there is a linear relationship between the sale price of a house and the 1st floor square footage, the number of full bathrooms, and the total number of rooms above ground for houses in Ames, Iowa. My R-Squared value, 0.52, demonstrated that a moderately strong 52% of variation in Sale Price can be explained by 1st floor square footage, number of full bathrooms, and total number of rooms above ground. Additionally, since there was sufficient evidence to suggest that all 3 slopes were non-zero for the population, it is likely that the relationship will hold true for all houses sold in Ames, Iowa, not just those from the sample."
   ]
  },
  {
   "cell_type": "markdown",
   "metadata": {},
   "source": [
    "**Logistic Regression Analysis:**"
   ]
  },
  {
   "cell_type": "markdown",
   "metadata": {},
   "source": [
    "In my logistic regression analysis, I determined that there is a linear relationship between log-odds of a foundation being Cinderblock and the Year a house was built, its external quality, basement quality, and the basement's exposure. This is because the logistic regression model's AUC was 0.845, which is a strong value. This means that the model was a strong fit to the data, demonstrating a linear relationship. Additionally, since all but two slopes had sufficient evidence of being non-zero in the population model, it is likely that the model's fit will be strong on the population as well. Lastly, homebuyers will know that the model will correctly classify an Ames, Iowa home's foundation as Cinderblock about 67% of the time, and can use this when making predictions for homes they are interested in."
   ]
  },
  {
   "cell_type": "markdown",
   "metadata": {},
   "source": [
    "**Potential Future Work/Research Opportunities:**"
   ]
  },
  {
   "cell_type": "markdown",
   "metadata": {},
   "source": [
    "Based upon my analysis performed in this report, further questions and research could be performed on the relationship between Sale Price and other potential explanatory variables such as Lot Area, Roof Type, 2nd Floor Square Footage, and more. If realtors and prospective buyers can build a model that incorporates as many non-zero explanatory variables as possible, it is very likely they will be able to determine the fairest price to offer or sell a home for in Ames, Iowa. Additionally, for homebuyers in particular, further analysis could be done on identification of features. If buyers can determine key details about a house, they will have a better idea of what to offer. Or, they could take advantage of seller's offers that don't account for these variables. "
   ]
  }
 ],
 "metadata": {
  "kernelspec": {
   "display_name": "Python 3 (ipykernel)",
   "language": "python",
   "name": "python3"
  },
  "language_info": {
   "codemirror_mode": {
    "name": "ipython",
    "version": 3
   },
   "file_extension": ".py",
   "mimetype": "text/x-python",
   "name": "python",
   "nbconvert_exporter": "python",
   "pygments_lexer": "ipython3",
   "version": "3.10.8"
  }
 },
 "nbformat": 4,
 "nbformat_minor": 4
}
